{
 "cells": [
  {
   "cell_type": "code",
   "execution_count": 2,
   "metadata": {},
   "outputs": [],
   "source": [
    "#Librerías\n",
    "import pandas as pd\n",
    "import numpy as np\n",
    "import sys\n",
    "import mlflow\n",
    "from sklearn.linear_model import LogisticRegression\n",
    "from sklearn.ensemble import GradientBoostingClassifier\n",
    "from sklearn.model_selection import GridSearchCV, RandomizedSearchCV\n",
    "from sklearn.metrics import ConfusionMatrixDisplay, classification_report, accuracy_score\n",
    "import os\n",
    "from utils import Utils"
   ]
  },
  {
   "cell_type": "code",
   "execution_count": 5,
   "metadata": {},
   "outputs": [
    {
     "ename": "NameError",
     "evalue": "name '__file__' is not defined",
     "output_type": "error",
     "traceback": [
      "\u001b[0;31m---------------------------------------------------------------------------\u001b[0m",
      "\u001b[0;31mNameError\u001b[0m                                 Traceback (most recent call last)",
      "Cell \u001b[0;32mIn[5], line 3\u001b[0m\n\u001b[1;32m      1\u001b[0m \u001b[39m#Alistamiento de Datos\u001b[39;00m\n\u001b[1;32m      2\u001b[0m utils \u001b[39m=\u001b[39m Utils()\n\u001b[0;32m----> 3\u001b[0m module_path \u001b[39m=\u001b[39m os\u001b[39m.\u001b[39mpath\u001b[39m.\u001b[39mdirname(\u001b[39m__file__\u001b[39;49m)\n\u001b[1;32m      4\u001b[0m folder_path \u001b[39m=\u001b[39m os\u001b[39m.\u001b[39mpath\u001b[39m.\u001b[39mjoin(module_path, \u001b[39m\"\u001b[39m\u001b[39m../Data/Preprocessing/processed_data_.csv\u001b[39m\u001b[39m\"\u001b[39m)\n\u001b[1;32m      6\u001b[0m data\u001b[39m=\u001b[39mUtils\u001b[39m.\u001b[39mload_data(path\u001b[39m=\u001b[39mfolder_path)\n",
      "\u001b[0;31mNameError\u001b[0m: name '__file__' is not defined"
     ]
    }
   ],
   "source": [
    "#Alistamiento de Datos\n",
    "utils = Utils()\n",
    "module_path = os.path.dirname(__file__)\n",
    "folder_path = os.path.join(module_path, \"../Data/Preprocessing/processed_data_.csv\")\n",
    "\n",
    "data=Utils.load_data(path=folder_path)\n",
    "data = data.dropna()\n",
    "X,y = Utils.features_target(data, ['is_canceled', 'lead_time', 'arrival_date_week_number',\n",
    "       'stays_in_weekend_nights', 'stays_in_week_nights', 'adults', 'children',\n",
    "       'babies', \n",
    "       'previous_bookings_not_canceled','year_res_status_date',\n",
    "       'month_res_status_date', 'day_res_status_date', 'hotel_City Hotel',\n",
    "       'hotel_Resort Hotel', 'meal_BB', 'meal_FB', 'meal_HB', 'meal_SC',\n",
    "       'meal_Undefined', 'market_segment_Aviation',\n",
    "       'market_segment_Complementary', 'market_segment_Corporate',\n",
    "       'market_segment_Direct', 'market_segment_Groups',\n",
    "       'market_segment_Offline TA/TO', 'market_segment_Online TA',\n",
    "       'market_segment_Undefined', 'distribution_channel_Corporate',\n",
    "       'distribution_channel_Direct', 'distribution_channel_GDS',\n",
    "       'distribution_channel_TA/TO', 'distribution_channel_Undefined',\n",
    "       'reserved_room_type_A', 'reserved_room_type_B', 'reserved_room_type_C',\n",
    "       'reserved_room_type_D', 'reserved_room_type_E', 'reserved_room_type_F',\n",
    "       'reserved_room_type_G', 'reserved_room_type_H', 'reserved_room_type_L',\n",
    "       'reserved_room_type_P', 'deposit_type_No Deposit',\n",
    "       'deposit_type_Non Refund', 'deposit_type_Refundable',\n",
    "       'customer_type_Contract', 'customer_type_Group',\n",
    "       'customer_type_Transient', 'customer_type_Transient-Party',\n",
    "       'reservation_status_processed'], [\"is_canceled\"])"
   ]
  }
 ],
 "metadata": {
  "kernelspec": {
   "display_name": "data_products",
   "language": "python",
   "name": "python3"
  },
  "language_info": {
   "codemirror_mode": {
    "name": "ipython",
    "version": 3
   },
   "file_extension": ".py",
   "mimetype": "text/x-python",
   "name": "python",
   "nbconvert_exporter": "python",
   "pygments_lexer": "ipython3",
   "version": "3.10.6"
  },
  "orig_nbformat": 4
 },
 "nbformat": 4,
 "nbformat_minor": 2
}
