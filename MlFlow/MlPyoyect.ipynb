{
 "cells": [
  {
   "attachments": {},
   "cell_type": "markdown",
   "metadata": {},
   "source": [
    "## Importando librerías:"
   ]
  },
  {
   "cell_type": "code",
   "execution_count": 61,
   "metadata": {},
   "outputs": [],
   "source": [
    "#Librerías\n",
    "import pandas as pd\n",
    "import numpy as np\n",
    "import mlflow\n",
    "from sklearn.linear_model import LogisticRegression\n",
    "from sklearn.ensemble import GradientBoostingClassifier\n",
    "from sklearn.model_selection import RandomizedSearchCV, train_test_split\n",
    "from sklearn.metrics import  classification_report, accuracy_score, roc_auc_score\n",
    "import os\n",
    "import sys\n",
    "from utils import Utils\n",
    "utils = Utils()"
   ]
  },
  {
   "cell_type": "code",
   "execution_count": 65,
   "metadata": {},
   "outputs": [
    {
     "name": "stdout",
     "output_type": "stream",
     "text": [
      "Writing bookings_prj/train_gbt.py\n"
     ]
    }
   ],
   "source": [
    "%%writefile bookings_prj/train_gbt.py\n",
    "\n",
    "#Librerías\n",
    "import pandas as pd\n",
    "import numpy as np\n",
    "import mlflow\n",
    "from sklearn.linear_model import LogisticRegression\n",
    "from sklearn.ensemble import GradientBoostingClassifier\n",
    "from sklearn.model_selection import RandomizedSearchCV, train_test_split\n",
    "from sklearn.metrics import  classification_report, accuracy_score, roc_auc_score\n",
    "import os\n",
    "import sys\n",
    "from utils import Utils\n",
    "utils = Utils()\n",
    "\n",
    "def run():\n",
    "    #\n",
    "    # Entrena un modelo sklearn Gradient Boosting Trees...\n",
    "    #\n",
    "    # Cargando datos...\n",
    "\n",
    "    # Cargando datos...\n",
    "    path = os.path.dirname(file)\n",
    "    filename = os.path.join(path, 'processed_data_.csv')\n",
    "    data=utils.load_data(path=filename)\n",
    "    data = data.dropna()\n",
    "\n",
    "    # Partiendo variable dependientes e independientes...\n",
    "    X,y = utils.features_target(data, ['is_canceled', 'lead_time', 'arrival_date_week_number',\n",
    "    'stays_in_weekend_nights', 'stays_in_week_nights', 'adults', 'children',\n",
    "    'babies', \n",
    "    'previous_bookings_not_canceled','year_res_status_date',\n",
    "    'month_res_status_date', 'day_res_status_date', 'hotel_City Hotel',\n",
    "    'hotel_Resort Hotel', 'meal_BB', 'meal_FB', 'meal_HB', 'meal_SC',\n",
    "    'meal_Undefined', 'market_segment_Aviation',\n",
    "    'market_segment_Complementary', 'market_segment_Corporate',\n",
    "    'market_segment_Direct', 'market_segment_Groups',\n",
    "    'market_segment_Offline TA/TO', 'market_segment_Online TA',\n",
    "    'market_segment_Undefined', 'distribution_channel_Corporate',\n",
    "    'distribution_channel_Direct', 'distribution_channel_GDS',\n",
    "    'distribution_channel_TA/TO', 'distribution_channel_Undefined',\n",
    "    'reserved_room_type_A', 'reserved_room_type_B', 'reserved_room_type_C',\n",
    "    'reserved_room_type_D', 'reserved_room_type_E', 'reserved_room_type_F',\n",
    "    'reserved_room_type_G', 'reserved_room_type_H', 'reserved_room_type_L',\n",
    "    'reserved_room_type_P', 'deposit_type_No Deposit',\n",
    "    'deposit_type_Non Refund', 'deposit_type_Refundable',\n",
    "    'customer_type_Contract', 'customer_type_Group',\n",
    "    'customer_type_Transient', 'customer_type_Transient-Party',\n",
    "    'reservation_status_processed'], [\"is_canceled\"])\n",
    "    \n",
    "    # Particionamiento entrenamiento y validación...\n",
    "    X_train,X_test,y_train,y_test = train_test_split(X,y,test_size=0.20,random_state=42)\n",
    "\n",
    "    # Definiendo hiperparámetros...\n",
    "    learning_rate = float(sys.argv[1])\n",
    "    n_estimators = int(sys.argv[2])\n",
    "    max_depht = int(sys.argv[3])\n",
    "    verbose = int(sys.argv[4])\n",
    "\n",
    "\n",
    "    print('Tracking directory:', mlflow.get_tracking_uri())\n",
    "\n",
    "    with mlflow.start_run():\n",
    "\n",
    "        estimator = GradientBoostingClassifier(learning_rate=learning_rate, n_estimators=n_estimators, max_depth=max_depht)\n",
    "        estimator.fit(X_train, y_train)\n",
    "        accuracy, recall, roc_score = utils.eval_metrics(y_test, y_pred=estimator.predict(X_test))\n",
    "        if verbose > 0:\n",
    "            utils.report(estimator, accuracy, recall, roc_score)\n",
    "\n",
    "            mlflow.log_param(\"Learning_Rate\", learning_rate)\n",
    "            mlflow.log_param(\"n_estimators\", n_estimators)\n",
    "            mlflow.log_param(\"Max_Depth\", max_depht)\n",
    "\n",
    "            mlflow.log_metric(\"Accuracy\", accuracy)\n",
    "            mlflow.log_metric(\"Recall\", recall)\n",
    "            mlflow.log_metric(\"Roc_Score\", roc_score)\n",
    "\n",
    "            mlflow.sklearn.log_model(estimator, \"model\")\n",
    "\n",
    "\n",
    "if __name__ == \"__main__\":\n",
    "    run()"
   ]
  },
  {
   "cell_type": "code",
   "execution_count": 67,
   "metadata": {},
   "outputs": [
    {
     "name": "stdout",
     "output_type": "stream",
     "text": [
      "Writing bookings_prj/MLproject\n"
     ]
    }
   ],
   "source": [
    "%%writefile bookings_prj/MLproject\n",
    "name: Proyecto Bookings\n",
    "\n",
    "entry_points:\n",
    "    main:\n",
    "        parameters:\n",
    "            learning_rate: {type: float, default: 0.001}\n",
    "            n_estimators: {type: int, default: 100}\n",
    "            max_depth: {type: int, default: 5}\n",
    "            verbose: {type: int, default: 1}\n",
    "        command: 'python3 train_gbt.py {learning_rate} {n_estimators} {max_depth} {verbose}'"
   ]
  },
  {
   "cell_type": "code",
   "execution_count": 72,
   "metadata": {},
   "outputs": [
    {
     "name": "stderr",
     "output_type": "stream",
     "text": [
      "Usage: mlflow run [OPTIONS] URI\n",
      "Try 'mlflow run --help' for help.\n",
      "\n",
      "Error: Missing argument 'URI'.\n"
     ]
    }
   ],
   "source": [
    "#\n",
    "# Ejecución con parámetros por defecto\n",
    "#\n",
    "!python train_gbt.py 0.001 100 5 1"
   ]
  }
 ],
 "metadata": {
  "kernelspec": {
   "display_name": "data_products",
   "language": "python",
   "name": "python3"
  },
  "language_info": {
   "codemirror_mode": {
    "name": "ipython",
    "version": 3
   },
   "file_extension": ".py",
   "mimetype": "text/x-python",
   "name": "python",
   "nbconvert_exporter": "python",
   "pygments_lexer": "ipython3",
   "version": "3.10.10"
  },
  "orig_nbformat": 4
 },
 "nbformat": 4,
 "nbformat_minor": 2
}
