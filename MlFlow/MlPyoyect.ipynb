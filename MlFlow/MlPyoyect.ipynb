{
 "cells": [
  {
   "attachments": {},
   "cell_type": "markdown",
   "metadata": {},
   "source": [
    "## Importando librerías:"
   ]
  },
  {
   "cell_type": "code",
   "execution_count": 1,
   "metadata": {},
   "outputs": [],
   "source": [
    "!rm -rf MLproject\n",
    "!rm -rf ./mlruns\n",
    "!rm -rf train_gbt.py"
   ]
  },
  {
   "cell_type": "code",
   "execution_count": 3,
   "metadata": {},
   "outputs": [
    {
     "name": "stdout",
     "output_type": "stream",
     "text": [
      "Writing train_gbt.py\n"
     ]
    }
   ],
   "source": [
    "%%writefile train_gbt.py\n",
    "\n",
    "#Librerías\n",
    "import pandas as pd\n",
    "import numpy as np\n",
    "import mlflow\n",
    "from sklearn.linear_model import LogisticRegression\n",
    "from sklearn.ensemble import GradientBoostingClassifier\n",
    "from sklearn.model_selection import RandomizedSearchCV, train_test_split\n",
    "from sklearn.metrics import  classification_report, accuracy_score, roc_auc_score\n",
    "import os\n",
    "import sys\n",
    "import warnings\n",
    "warnings.filterwarnings(\"ignore\")\n",
    "from utils import Utils\n",
    "utils = Utils()\n",
    "\n",
    "def run():\n",
    "    #\n",
    "    # Entrena un modelo sklearn Gradient Boosting Trees...\n",
    "    #\n",
    "    # Cargando datos...\n",
    "\n",
    "    # Cargando datos...\n",
    "    path = os.path.dirname(__file__)\n",
    "    filename = os.path.join(path, 'processed_data_.csv')\n",
    "    data=utils.load_data(path=filename)\n",
    "    data = data.dropna()\n",
    "\n",
    "    # Partiendo variable dependientes e independientes...\n",
    "    X,y = utils.features_target(data, ['is_canceled', 'lead_time', 'arrival_date_week_number',\n",
    "    'stays_in_weekend_nights', 'stays_in_week_nights', 'adults', 'children',\n",
    "    'babies', \n",
    "    'previous_bookings_not_canceled','year_res_status_date',\n",
    "    'month_res_status_date', 'day_res_status_date', 'hotel_City Hotel',\n",
    "    'hotel_Resort Hotel', 'meal_BB', 'meal_FB', 'meal_HB', 'meal_SC',\n",
    "    'meal_Undefined', 'market_segment_Aviation',\n",
    "    'market_segment_Complementary', 'market_segment_Corporate',\n",
    "    'market_segment_Direct', 'market_segment_Groups',\n",
    "    'market_segment_Offline TA/TO', 'market_segment_Online TA',\n",
    "    'market_segment_Undefined', 'distribution_channel_Corporate',\n",
    "    'distribution_channel_Direct', 'distribution_channel_GDS',\n",
    "    'distribution_channel_TA/TO', 'distribution_channel_Undefined',\n",
    "    'reserved_room_type_A', 'reserved_room_type_B', 'reserved_room_type_C',\n",
    "    'reserved_room_type_D', 'reserved_room_type_E', 'reserved_room_type_F',\n",
    "    'reserved_room_type_G', 'reserved_room_type_H', 'reserved_room_type_L',\n",
    "    'reserved_room_type_P', 'deposit_type_No Deposit',\n",
    "    'deposit_type_Non Refund', 'deposit_type_Refundable',\n",
    "    'customer_type_Contract', 'customer_type_Group',\n",
    "    'customer_type_Transient', 'customer_type_Transient-Party',\n",
    "    'reservation_status_processed'], [\"is_canceled\"])\n",
    "    \n",
    "    # Particionamiento entrenamiento y validación...\n",
    "    X_train,X_test,y_train,y_test = train_test_split(X,y,test_size=0.20,random_state=42)\n",
    "\n",
    "    # Definiendo hiperparámetros...\n",
    "    learning_rate = float(sys.argv[1])\n",
    "    n_estimators = int(sys.argv[2])\n",
    "    max_depht = int(sys.argv[3])\n",
    "    verbose = int(sys.argv[4])\n",
    "\n",
    "\n",
    "    print('Tracking directory:', mlflow.get_tracking_uri())\n",
    "\n",
    "    with mlflow.start_run():\n",
    "\n",
    "        estimator = GradientBoostingClassifier(learning_rate=learning_rate, n_estimators=n_estimators, max_depth=max_depht)\n",
    "        estimator.fit(X_train, y_train)\n",
    "        accuracy, recall, roc_score = utils.eval_metrics(y_test, y_pred=estimator.predict(X_test))\n",
    "        if verbose > 0:\n",
    "            utils.report(estimator, accuracy, recall, roc_score)\n",
    "\n",
    "            mlflow.log_param(\"learning_rate\", learning_rate)\n",
    "            mlflow.log_param(\"n_estimators\", n_estimators)\n",
    "            mlflow.log_param(\"max_depth\", max_depht)\n",
    "\n",
    "            mlflow.log_metric(\"accuracy\", accuracy)\n",
    "            mlflow.log_metric(\"recall\", recall)\n",
    "            mlflow.log_metric(\"roc_score\", roc_score)\n",
    "\n",
    "            mlflow.sklearn.log_model(estimator, \"model\")\n",
    "\n",
    "        # -------------------------------------------------------------------------------\n",
    "        # evaluación del modelo\n",
    "        #\n",
    "        eval_data = X_test\n",
    "        eval_data['target'] = y_test\n",
    "\n",
    "        # mlflow.sklearn.log_model(estimator, \"model\")\n",
    "        model_info = mlflow.sklearn.log_model(estimator, \"model\")\n",
    "        mlflow.evaluate(\n",
    "            model_info.model_uri,\n",
    "            eval_data,\n",
    "            targets=\"target\",\n",
    "            model_type=\"classifier\" # \"regressor\" | \"classifier\"\n",
    "        )\n",
    "\n",
    "\n",
    "if __name__ == \"__main__\":\n",
    "    run()"
   ]
  },
  {
   "cell_type": "code",
   "execution_count": 4,
   "metadata": {},
   "outputs": [
    {
     "name": "stdout",
     "output_type": "stream",
     "text": [
      "Writing MLproject\n"
     ]
    }
   ],
   "source": [
    "%%writefile MLproject\n",
    "name: Proyecto Bookings\n",
    "\n",
    "entry_points:\n",
    "    main:\n",
    "        parameters:\n",
    "            learning_rate: {type: float, default: 0.001}\n",
    "            n_estimators: {type: int, default: 300}\n",
    "            max_depth: {type: int, default: 5}\n",
    "            verbose: {type: int, default: 1}\n",
    "        command: 'python3 train_gbt.py {learning_rate} {n_estimators} {max_depth} {verbose}'"
   ]
  },
  {
   "cell_type": "code",
   "execution_count": 5,
   "metadata": {},
   "outputs": [],
   "source": [
    "#\n",
    "# Ejecución con parámetros por defecto\n",
    "#\n",
    "#!mlflow run --env-manager=local ."
   ]
  },
  {
   "cell_type": "code",
   "execution_count": 6,
   "metadata": {},
   "outputs": [
    {
     "name": "stdout",
     "output_type": "stream",
     "text": [
      "2023/03/26 19:51:15 INFO mlflow.projects.utils: === Created directory /tmp/tmpl5tpt4or for downloading remote URIs passed to arguments of type 'path' ===\n",
      "2023/03/26 19:51:15 INFO mlflow.projects.backend.local: === Running command 'python3 train_gbt.py 0.1 400 10 1' in run with ID 'f18a917757794a3789ba72355a64f5d0' === \n",
      "Tracking directory: file:///home/d3im3r/Dropbox/Maestria/Productos_Datos/Producto_datos/MlFlow/mlruns\n",
      "GradientBoostingClassifier(max_depth=10, n_estimators=400):\n",
      "  Accuracy: 0.740598040036854\n",
      "  Recall: 0.5621985417835109\n",
      "  ROC Score: 0.7045437673162693\n",
      "2023/03/26 19:53:20 INFO mlflow.models.evaluation.base: Evaluating the model with the default evaluator.\n",
      "2023/03/26 19:53:21 INFO mlflow.models.evaluation.default_evaluator: The evaluation dataset is inferred as binary dataset, positive label is 1.0, negative label is 0.0.\n",
      "2023/03/26 19:53:26 INFO mlflow.models.evaluation.default_evaluator: Shap explainer Tree is used.\n",
      " 99%|===================| 1982/2000 [00:41<00:00]        2023/03/26 19:54:07 WARNING mlflow.models.evaluation.default_evaluator: Shap evaluation failed. Reason: ExplainerError('Additivity check failed in TreeExplainer! Please ensure the data matrix you passed to the explainer is the same shape that the model was trained on. If your data shape is correct then please report this on GitHub. This check failed because for one of the samples the sum of the SHAP values was -1.969149, while the model output was -0.697611. If this difference is acceptable you can set check_additivity=False to disable this check.'). Set logging level to DEBUG to see the full traceback.\n",
      "2023/03/26 19:54:08 INFO mlflow.projects: === Run (ID 'f18a917757794a3789ba72355a64f5d0') succeeded ===\n"
     ]
    }
   ],
   "source": [
    "!mlflow run --env-manager=local . -P learning_rate=0.1 -P n_estimators=400 -P max_depth=10 -P verbose=1"
   ]
  }
 ],
 "metadata": {
  "kernelspec": {
   "display_name": "data_products",
   "language": "python",
   "name": "python3"
  },
  "language_info": {
   "codemirror_mode": {
    "name": "ipython",
    "version": 3
   },
   "file_extension": ".py",
   "mimetype": "text/x-python",
   "name": "python",
   "nbconvert_exporter": "python",
   "pygments_lexer": "ipython3",
   "version": "3.10.6"
  },
  "orig_nbformat": 4
 },
 "nbformat": 4,
 "nbformat_minor": 2
}
