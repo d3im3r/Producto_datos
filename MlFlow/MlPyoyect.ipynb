{
 "cells": [
  {
   "attachments": {},
   "cell_type": "markdown",
   "metadata": {},
   "source": [
    "## Importando librerías:"
   ]
  },
  {
   "cell_type": "code",
   "execution_count": 61,
   "metadata": {},
   "outputs": [],
   "source": [
    "#Librerías\n",
    "import pandas as pd\n",
    "import numpy as np\n",
    "import mlflow\n",
    "from sklearn.linear_model import LogisticRegression\n",
    "from sklearn.ensemble import GradientBoostingClassifier\n",
    "from sklearn.model_selection import RandomizedSearchCV, train_test_split\n",
    "from sklearn.metrics import  classification_report, accuracy_score, roc_auc_score\n",
    "import os\n",
    "import sys\n",
    "from utils import Utils\n",
    "utils = Utils()"
   ]
  },
  {
   "cell_type": "code",
   "execution_count": 86,
   "metadata": {},
   "outputs": [
    {
     "name": "stdout",
     "output_type": "stream",
     "text": [
      "Overwriting train_gbt.py\n"
     ]
    }
   ],
   "source": [
    "%%writefile train_gbt.py\n",
    "\n",
    "#Librerías\n",
    "import pandas as pd\n",
    "import numpy as np\n",
    "import mlflow\n",
    "from sklearn.linear_model import LogisticRegression\n",
    "from sklearn.ensemble import GradientBoostingClassifier\n",
    "from sklearn.model_selection import RandomizedSearchCV, train_test_split\n",
    "from sklearn.metrics import  classification_report, accuracy_score, roc_auc_score\n",
    "import os\n",
    "import sys\n",
    "from utils import Utils\n",
    "utils = Utils()\n",
    "\n",
    "def run():\n",
    "    #\n",
    "    # Entrena un modelo sklearn Gradient Boosting Trees...\n",
    "    #\n",
    "    # Cargando datos...\n",
    "\n",
    "    # Cargando datos...\n",
    "    path = os.path.dirname(__file__)\n",
    "    filename = os.path.join(path, 'processed_data_.csv')\n",
    "    data=utils.load_data(path=filename)\n",
    "    data = data.dropna()\n",
    "\n",
    "    # Partiendo variable dependientes e independientes...\n",
    "    X,y = utils.features_target(data, ['is_canceled', 'lead_time', 'arrival_date_week_number',\n",
    "    'stays_in_weekend_nights', 'stays_in_week_nights', 'adults', 'children',\n",
    "    'babies', \n",
    "    'previous_bookings_not_canceled','year_res_status_date',\n",
    "    'month_res_status_date', 'day_res_status_date', 'hotel_City Hotel',\n",
    "    'hotel_Resort Hotel', 'meal_BB', 'meal_FB', 'meal_HB', 'meal_SC',\n",
    "    'meal_Undefined', 'market_segment_Aviation',\n",
    "    'market_segment_Complementary', 'market_segment_Corporate',\n",
    "    'market_segment_Direct', 'market_segment_Groups',\n",
    "    'market_segment_Offline TA/TO', 'market_segment_Online TA',\n",
    "    'market_segment_Undefined', 'distribution_channel_Corporate',\n",
    "    'distribution_channel_Direct', 'distribution_channel_GDS',\n",
    "    'distribution_channel_TA/TO', 'distribution_channel_Undefined',\n",
    "    'reserved_room_type_A', 'reserved_room_type_B', 'reserved_room_type_C',\n",
    "    'reserved_room_type_D', 'reserved_room_type_E', 'reserved_room_type_F',\n",
    "    'reserved_room_type_G', 'reserved_room_type_H', 'reserved_room_type_L',\n",
    "    'reserved_room_type_P', 'deposit_type_No Deposit',\n",
    "    'deposit_type_Non Refund', 'deposit_type_Refundable',\n",
    "    'customer_type_Contract', 'customer_type_Group',\n",
    "    'customer_type_Transient', 'customer_type_Transient-Party',\n",
    "    'reservation_status_processed'], [\"is_canceled\"])\n",
    "    \n",
    "    # Particionamiento entrenamiento y validación...\n",
    "    X_train,X_test,y_train,y_test = train_test_split(X,y,test_size=0.20,random_state=42)\n",
    "\n",
    "    # Definiendo hiperparámetros...\n",
    "    learning_rate = float(sys.argv[1])\n",
    "    n_estimators = int(sys.argv[2])\n",
    "    max_depht = int(sys.argv[3])\n",
    "    verbose = int(sys.argv[4])\n",
    "\n",
    "\n",
    "    print('Tracking directory:', mlflow.get_tracking_uri())\n",
    "\n",
    "    with mlflow.start_run():\n",
    "\n",
    "        estimator = GradientBoostingClassifier(learning_rate=learning_rate, n_estimators=n_estimators, max_depth=max_depht)\n",
    "        estimator.fit(X_train, y_train)\n",
    "        accuracy, recall, roc_score = utils.eval_metrics(y_test, y_pred=estimator.predict(X_test))\n",
    "        if verbose > 0:\n",
    "            utils.report(estimator, accuracy, recall, roc_score)\n",
    "\n",
    "            mlflow.log_param(\"learning_rate\", learning_rate)\n",
    "            mlflow.log_param(\"n_estimators\", n_estimators)\n",
    "            mlflow.log_param(\"max_depth\", max_depht)\n",
    "\n",
    "            mlflow.log_metric(\"accuracy\", accuracy)\n",
    "            mlflow.log_metric(\"recall\", recall)\n",
    "            mlflow.log_metric(\"roc_score\", roc_score)\n",
    "\n",
    "            mlflow.sklearn.log_model(estimator, \"model\")\n",
    "\n",
    "            client = MlflowClient()\n",
    "            client.create_model_version(\n",
    "                name=f\"sklearn-{learning_rate}-learning_rate-{n_estimators}-n_estimators-{max_depht}-max_depht\",\n",
    "                source=f\"mlruns/0/{mlflow.start_run().info.run_id}/artifacts/model\",\n",
    "                run_id=mlflow.start_run().info.run_id,\n",
    "            )\n",
    "\n",
    "\n",
    "if __name__ == \"__main__\":\n",
    "    run()"
   ]
  },
  {
   "cell_type": "code",
   "execution_count": 87,
   "metadata": {},
   "outputs": [
    {
     "name": "stdout",
     "output_type": "stream",
     "text": [
      "Overwriting MLproject\n"
     ]
    }
   ],
   "source": [
    "%%writefile MLproject\n",
    "name: Proyecto Bookings\n",
    "\n",
    "entry_points:\n",
    "    main:\n",
    "        parameters:\n",
    "            learning_rate: {type: float, default: 0.001}\n",
    "            n_estimators: {type: int, default: 300}\n",
    "            max_depth: {type: int, default: 5}\n",
    "            verbose: {type: int, default: 1}\n",
    "        command: 'python train_gbt.py {learning_rate} {n_estimators} {max_depth} {verbose}'"
   ]
  },
  {
   "cell_type": "code",
   "execution_count": 90,
   "metadata": {},
   "outputs": [
    {
     "name": "stdout",
     "output_type": "stream",
     "text": [
      "Tracking directory: file:///c:/Users/jdbul/OneDrive/Escritorio/Especializacion-Analitica/Asignaturas/ProductosDatos/DataProducts/Producto_datos/MlFlow/mlruns\n",
      "GradientBoostingClassifier(learning_rate=0.001, max_depth=5, n_estimators=300):\n",
      "  Accuracy: 0.670952341067091\n",
      "  Recall: 0.11957375210319686\n",
      "  ROC Score: 0.5595195499806234\n"
     ]
    },
    {
     "name": "stderr",
     "output_type": "stream",
     "text": [
      "2023/03/25 18:13:06 INFO mlflow.projects.utils: === Created directory C:\\Users\\jdbul\\AppData\\Local\\Temp\\tmpf4j3z87m for downloading remote URIs passed to arguments of type 'path' ===\n",
      "2023/03/25 18:13:06 INFO mlflow.projects.backend.local: === Running command 'python train_gbt.py 0.001 300 5 1' in run with ID '57930e3e0e2c45ffbc2f8c15984d16aa' === \n",
      "C:\\Users\\jdbul\\OneDrive\\Escritorio\\Especializacion-Analitica\\Asignaturas\\ProductosDatos\\DataProducts\\Producto_datos\\venv\\lib\\site-packages\\sklearn\\ensemble\\_gb.py:437: DataConversionWarning: A column-vector y was passed when a 1d array was expected. Please change the shape of y to (n_samples, ), for example using ravel().\n",
      "  y = column_or_1d(y, warn=True)\n",
      "C:\\Users\\jdbul\\OneDrive\\Escritorio\\Especializacion-Analitica\\Asignaturas\\ProductosDatos\\DataProducts\\Producto_datos\\venv\\lib\\site-packages\\_distutils_hack\\__init__.py:33: UserWarning: Setuptools is replacing distutils.\n",
      "  warnings.warn(\"Setuptools is replacing distutils.\")\n",
      "2023/03/25 18:13:35 INFO mlflow.projects: === Run (ID '57930e3e0e2c45ffbc2f8c15984d16aa') succeeded ===\n"
     ]
    }
   ],
   "source": [
    "#\n",
    "# Ejecución con parámetros por defecto\n",
    "#\n",
    "!mlflow run --env-manager=local . "
   ]
  },
  {
   "cell_type": "code",
   "execution_count": 91,
   "metadata": {},
   "outputs": [
    {
     "name": "stdout",
     "output_type": "stream",
     "text": [
      "Tracking directory: file:///c:/Users/jdbul/OneDrive/Escritorio/Especializacion-Analitica/Asignaturas/ProductosDatos/DataProducts/Producto_datos/MlFlow/mlruns\n",
      "GradientBoostingClassifier(max_depth=10, n_estimators=400):\n",
      "  Accuracy: 0.7412262333528771\n",
      "  Recall: 0.5604038137969714\n",
      "  ROC Score: 0.7046822918480279\n"
     ]
    },
    {
     "name": "stderr",
     "output_type": "stream",
     "text": [
      "2023/03/25 18:19:06 INFO mlflow.projects.utils: === Created directory C:\\Users\\jdbul\\AppData\\Local\\Temp\\tmpewebpe9t for downloading remote URIs passed to arguments of type 'path' ===\n",
      "2023/03/25 18:19:06 INFO mlflow.projects.backend.local: === Running command 'python train_gbt.py 0.1 400 10 1' in run with ID 'fbc77a8a18444d61a09c43cdbdfc2017' === \n",
      "C:\\Users\\jdbul\\OneDrive\\Escritorio\\Especializacion-Analitica\\Asignaturas\\ProductosDatos\\DataProducts\\Producto_datos\\venv\\lib\\site-packages\\sklearn\\ensemble\\_gb.py:437: DataConversionWarning: A column-vector y was passed when a 1d array was expected. Please change the shape of y to (n_samples, ), for example using ravel().\n",
      "  y = column_or_1d(y, warn=True)\n",
      "C:\\Users\\jdbul\\OneDrive\\Escritorio\\Especializacion-Analitica\\Asignaturas\\ProductosDatos\\DataProducts\\Producto_datos\\venv\\lib\\site-packages\\_distutils_hack\\__init__.py:33: UserWarning: Setuptools is replacing distutils.\n",
      "  warnings.warn(\"Setuptools is replacing distutils.\")\n",
      "2023/03/25 18:20:08 INFO mlflow.projects: === Run (ID 'fbc77a8a18444d61a09c43cdbdfc2017') succeeded ===\n"
     ]
    }
   ],
   "source": [
    "!mlflow run --env-manager=local . -P learning_rate=0.1 -P n_estimators=400 -P max_depth=10 -P verbose=1"
   ]
  }
 ],
 "metadata": {
  "kernelspec": {
   "display_name": "data_products",
   "language": "python",
   "name": "python3"
  },
  "language_info": {
   "codemirror_mode": {
    "name": "ipython",
    "version": 3
   },
   "file_extension": ".py",
   "mimetype": "text/x-python",
   "name": "python",
   "nbconvert_exporter": "python",
   "pygments_lexer": "ipython3",
   "version": "3.10.10"
  },
  "orig_nbformat": 4
 },
 "nbformat": 4,
 "nbformat_minor": 2
}
