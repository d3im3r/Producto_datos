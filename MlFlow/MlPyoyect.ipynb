{
 "cells": [
  {
   "attachments": {},
   "cell_type": "markdown",
   "metadata": {},
   "source": [
    "## Importando librerías:"
   ]
  },
  {
   "cell_type": "code",
   "execution_count": 10,
   "metadata": {},
   "outputs": [
    {
     "name": "stdout",
     "output_type": "stream",
     "text": [
      "Writing train_gbt.py\n"
     ]
    }
   ],
   "source": [
    "%%writefile train_gbt.py\n",
    "\n",
    "#Librerías\n",
    "import pandas as pd\n",
    "import numpy as np\n",
    "import mlflow\n",
    "from sklearn.linear_model import LogisticRegression\n",
    "from sklearn.ensemble import GradientBoostingClassifier\n",
    "from sklearn.model_selection import RandomizedSearchCV, train_test_split\n",
    "from sklearn.metrics import  classification_report, accuracy_score, roc_auc_score\n",
    "import os\n",
    "from utils import Utils\n",
    "utils = Utils()\n",
    "\n",
    "def run():\n",
    "    #\n",
    "    # Entrena un modelo sklearn Gradient Boosting Trees...\n",
    "    #\n",
    "\n",
    "    import sys\n",
    "    # Cargando datos...\n",
    "    data=utils.load_data(path='processed_data_.csv')\n",
    "    data = data.dropna()\n",
    "\n",
    "    # Partiendo variable dependientes e independientes...\n",
    "    X,y = utils.features_target(data, ['is_canceled', 'lead_time', 'arrival_date_week_number',\n",
    "    'stays_in_weekend_nights', 'stays_in_week_nights', 'adults', 'children',\n",
    "    'babies', \n",
    "    'previous_bookings_not_canceled','year_res_status_date',\n",
    "    'month_res_status_date', 'day_res_status_date', 'hotel_City Hotel',\n",
    "    'hotel_Resort Hotel', 'meal_BB', 'meal_FB', 'meal_HB', 'meal_SC',\n",
    "    'meal_Undefined', 'market_segment_Aviation',\n",
    "    'market_segment_Complementary', 'market_segment_Corporate',\n",
    "    'market_segment_Direct', 'market_segment_Groups',\n",
    "    'market_segment_Offline TA/TO', 'market_segment_Online TA',\n",
    "    'market_segment_Undefined', 'distribution_channel_Corporate',\n",
    "    'distribution_channel_Direct', 'distribution_channel_GDS',\n",
    "    'distribution_channel_TA/TO', 'distribution_channel_Undefined',\n",
    "    'reserved_room_type_A', 'reserved_room_type_B', 'reserved_room_type_C',\n",
    "    'reserved_room_type_D', 'reserved_room_type_E', 'reserved_room_type_F',\n",
    "    'reserved_room_type_G', 'reserved_room_type_H', 'reserved_room_type_L',\n",
    "    'reserved_room_type_P', 'deposit_type_No Deposit',\n",
    "    'deposit_type_Non Refund', 'deposit_type_Refundable',\n",
    "    'customer_type_Contract', 'customer_type_Group',\n",
    "    'customer_type_Transient', 'customer_type_Transient-Party',\n",
    "    'reservation_status_processed'], [\"is_canceled\"])\n",
    "    \n",
    "    # Particionamiento entrenamiento y validación...\n",
    "    X_train,X_test,y_train,y_test = train_test_split(X,y,test_size=0.20,random_state=42)\n",
    "\n",
    "    # Definiendo hiperparámetros...\n",
    "    learningrate = float(sys.argv[1])\n",
    "    nestimators = float(sys.argv[2])\n",
    "    maxdepht = int(sys.argv[3])\n",
    "    verbose = int(sys.argv[4])\n",
    "\n",
    "\n",
    "    print('Tracking directory:', mlflow.get_tracking_uri())\n",
    "\n",
    "    with mlflow.start_run():\n",
    "\n",
    "        estimator = GradientBoostingClassifier(learning_rate=learningrate, n_estimators=nestimators, max_depth=maxdepht)\n",
    "        estimator.fit(X_train, y_train)\n",
    "        accuracy, recall, roc_score = utils.eval_metrics(y_test, y_pred=estimator.predict(X_test))\n",
    "        if verbose > 0:\n",
    "            utils.report(estimator, accuracy, recall, roc_score)\n",
    "\n",
    "            mlflow.log_param(\"Learning_Rate\", learningrate)\n",
    "            mlflow.log_param(\"n_estimators\", nestimators)\n",
    "            mlflow.log_param(\"Max_Depth\", maxdepht)\n",
    "\n",
    "            mlflow.log_metric(\"Accuracy\", accuracy)\n",
    "            mlflow.log_metric(\"Recall\", recall)\n",
    "            mlflow.log_metric(\"Roc_Score\", roc_score)\n",
    "\n",
    "            mlflow.sklearn.log_model(estimator, \"model\")\n",
    "\n",
    "\n",
    "if __name__ == \"__main__\":\n",
    "    run()"
   ]
  },
  {
   "cell_type": "code",
   "execution_count": 11,
   "metadata": {},
   "outputs": [
    {
     "name": "stdout",
     "output_type": "stream",
     "text": [
      "Writing MLproject\n"
     ]
    }
   ],
   "source": [
    "%%writefile MLproject\n",
    "name: Proyecto Bookings\n",
    "\n",
    "entry_points:\n",
    "    main:\n",
    "        parameters:\n",
    "            learning_rate: {type: float, default: 0.001}\n",
    "            n_estimators: {type: int, default: 100}\n",
    "            max_depth: {type: int, default: 5}\n",
    "            verbose: {type: int, default: 1}\n",
    "        command: 'python3 train_gbt.py {learning_rate} {n_estimators} {max_depth} {verbose}'"
   ]
  },
  {
   "cell_type": "code",
   "execution_count": 13,
   "metadata": {},
   "outputs": [
    {
     "name": "stderr",
     "output_type": "stream",
     "text": [
      "Traceback (most recent call last):\n",
      "  File \"C:\\Program Files\\WindowsApps\\PythonSoftwareFoundation.Python.3.10_3.10.2800.0_x64__qbz5n2kfra8p0\\lib\\runpy.py\", line 196, in _run_module_as_main\n",
      "    return _run_code(code, main_globals, None,\n",
      "  File \"C:\\Program Files\\WindowsApps\\PythonSoftwareFoundation.Python.3.10_3.10.2800.0_x64__qbz5n2kfra8p0\\lib\\runpy.py\", line 86, in _run_code\n",
      "    exec(code, run_globals)\n",
      "  File \"C:\\Users\\jdbul\\OneDrive\\Escritorio\\Especializacion-Analitica\\Asignaturas\\ProductosDatos\\DataProducts\\Producto_datos\\venv\\Scripts\\mlflow.exe\\__main__.py\", line 7, in <module>\n",
      "  File \"C:\\Users\\jdbul\\OneDrive\\Escritorio\\Especializacion-Analitica\\Asignaturas\\ProductosDatos\\DataProducts\\Producto_datos\\venv\\lib\\site-packages\\click\\core.py\", line 1130, in __call__\n",
      "    return self.main(*args, **kwargs)\n",
      "  File \"C:\\Users\\jdbul\\OneDrive\\Escritorio\\Especializacion-Analitica\\Asignaturas\\ProductosDatos\\DataProducts\\Producto_datos\\venv\\lib\\site-packages\\click\\core.py\", line 1055, in main\n",
      "    rv = self.invoke(ctx)\n",
      "  File \"C:\\Users\\jdbul\\OneDrive\\Escritorio\\Especializacion-Analitica\\Asignaturas\\ProductosDatos\\DataProducts\\Producto_datos\\venv\\lib\\site-packages\\click\\core.py\", line 1655, in invoke\n",
      "    sub_ctx = cmd.make_context(cmd_name, args, parent=ctx)\n",
      "  File \"C:\\Users\\jdbul\\OneDrive\\Escritorio\\Especializacion-Analitica\\Asignaturas\\ProductosDatos\\DataProducts\\Producto_datos\\venv\\lib\\site-packages\\click\\core.py\", line 920, in make_context\n",
      "    self.parse_args(ctx, args)\n",
      "  File \"C:\\Users\\jdbul\\OneDrive\\Escritorio\\Especializacion-Analitica\\Asignaturas\\ProductosDatos\\DataProducts\\Producto_datos\\venv\\lib\\site-packages\\click\\core.py\", line 1378, in parse_args\n",
      "    value, args = param.handle_parse_result(ctx, opts, args)\n",
      "  File \"C:\\Users\\jdbul\\OneDrive\\Escritorio\\Especializacion-Analitica\\Asignaturas\\ProductosDatos\\DataProducts\\Producto_datos\\venv\\lib\\site-packages\\click\\core.py\", line 2360, in handle_parse_result\n",
      "    value = self.process_value(ctx, value)\n",
      "  File \"C:\\Users\\jdbul\\OneDrive\\Escritorio\\Especializacion-Analitica\\Asignaturas\\ProductosDatos\\DataProducts\\Producto_datos\\venv\\lib\\site-packages\\click\\core.py\", line 2322, in process_value\n",
      "    value = self.callback(ctx, self, value)\n",
      "  File \"C:\\Users\\jdbul\\OneDrive\\Escritorio\\Especializacion-Analitica\\Asignaturas\\ProductosDatos\\DataProducts\\Producto_datos\\venv\\lib\\site-packages\\mlflow\\utils\\cli_args.py\", line 63, in _resolve_env_manager\n",
      "    _EnvManager.validate(env_manager)\n",
      "  File \"C:\\Users\\jdbul\\OneDrive\\Escritorio\\Especializacion-Analitica\\Asignaturas\\ProductosDatos\\DataProducts\\Producto_datos\\venv\\lib\\site-packages\\mlflow\\utils\\env_manager.py\", line 12, in validate\n",
      "    raise MlflowException(\n",
      "mlflow.exceptions.MlflowException: Invalid value for `env_manager`: venv. Must be one of ['local', 'conda', 'virtualenv']\n"
     ]
    }
   ],
   "source": [
    "#\n",
    "# Ejecución con parámetros por defecto\n",
    "#\n",
    "!mlflow run --env-manager=v /MlFlow/MLproject"
   ]
  }
 ],
 "metadata": {
  "kernelspec": {
   "display_name": "data_products",
   "language": "python",
   "name": "python3"
  },
  "language_info": {
   "codemirror_mode": {
    "name": "ipython",
    "version": 3
   },
   "file_extension": ".py",
   "mimetype": "text/x-python",
   "name": "python",
   "nbconvert_exporter": "python",
   "pygments_lexer": "ipython3",
   "version": "3.10.10"
  },
  "orig_nbformat": 4
 },
 "nbformat": 4,
 "nbformat_minor": 2
}
