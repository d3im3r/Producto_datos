{
 "cells": [
  {
   "attachments": {},
   "cell_type": "markdown",
   "metadata": {},
   "source": [
    "# Carga de librerías"
   ]
  },
  {
   "cell_type": "code",
   "execution_count": 5,
   "metadata": {},
   "outputs": [],
   "source": [
    "# Manipulacion de datos...\n",
    "import pandas as pd\n",
    "import numpy as np\n",
    "# Visualizacion de datos...\n",
    "import matplotlib.pyplot as plt\n",
    "import seaborn as sns\n",
    "# Modelo...\n",
    "from sklearn.linear_model import LogisticRegression\n",
    "# Metricas de evaluacion...\n",
    "from sklearn.metrics import confusion_matrix\n",
    "from sklearn.metrics import precision_score\n",
    "from sklearn.metrics import recall_score\n",
    "from sklearn.metrics import accuracy_score\n",
    "from sklearn.metrics import f1_score\n",
    "from sklearn.metrics import roc_auc_score\n",
    "from sklearn.metrics import roc_auc_score\n",
    "from sklearn.metrics import ConfusionMatrixDisplay, classification_report\n",
    "import scikitplot as skplt\n",
    "# No presentar advertencias...\n",
    "import warnings\n",
    "warnings.filterwarnings(\"ignore\")\n",
    "import os "
   ]
  },
  {
   "attachments": {},
   "cell_type": "markdown",
   "metadata": {},
   "source": [
    "## Carga de datos"
   ]
  },
  {
   "cell_type": "code",
   "execution_count": 6,
   "metadata": {},
   "outputs": [
    {
     "name": "stdout",
     "output_type": "stream",
     "text": [
      "(119390, 55)\n"
     ]
    },
    {
     "data": {
      "text/html": [
       "<div>\n",
       "<style scoped>\n",
       "    .dataframe tbody tr th:only-of-type {\n",
       "        vertical-align: middle;\n",
       "    }\n",
       "\n",
       "    .dataframe tbody tr th {\n",
       "        vertical-align: top;\n",
       "    }\n",
       "\n",
       "    .dataframe thead th {\n",
       "        text-align: right;\n",
       "    }\n",
       "</style>\n",
       "<table border=\"1\" class=\"dataframe\">\n",
       "  <thead>\n",
       "    <tr style=\"text-align: right;\">\n",
       "      <th></th>\n",
       "      <th>is_canceled</th>\n",
       "      <th>lead_time</th>\n",
       "      <th>arrival_date_week_number</th>\n",
       "      <th>stays_in_weekend_nights</th>\n",
       "      <th>stays_in_week_nights</th>\n",
       "      <th>adults</th>\n",
       "      <th>children</th>\n",
       "      <th>babies</th>\n",
       "      <th>is_repeated_guest</th>\n",
       "      <th>previous_cancellations</th>\n",
       "      <th>previous_bookings_not_canceled</th>\n",
       "      <th>adr</th>\n",
       "      <th>required_car_parking_spaces</th>\n",
       "      <th>total_of_special_requests</th>\n",
       "      <th>year_res_status_date</th>\n",
       "      <th>month_res_status_date</th>\n",
       "      <th>day_res_status_date</th>\n",
       "      <th>hotel_City Hotel</th>\n",
       "      <th>hotel_Resort Hotel</th>\n",
       "      <th>meal_BB</th>\n",
       "      <th>meal_FB</th>\n",
       "      <th>meal_HB</th>\n",
       "      <th>meal_SC</th>\n",
       "      <th>meal_Undefined</th>\n",
       "      <th>market_segment_Aviation</th>\n",
       "      <th>market_segment_Complementary</th>\n",
       "      <th>market_segment_Corporate</th>\n",
       "      <th>market_segment_Direct</th>\n",
       "      <th>market_segment_Groups</th>\n",
       "      <th>market_segment_Offline TA/TO</th>\n",
       "      <th>market_segment_Online TA</th>\n",
       "      <th>market_segment_Undefined</th>\n",
       "      <th>distribution_channel_Corporate</th>\n",
       "      <th>distribution_channel_Direct</th>\n",
       "      <th>distribution_channel_GDS</th>\n",
       "      <th>distribution_channel_TA/TO</th>\n",
       "      <th>distribution_channel_Undefined</th>\n",
       "      <th>reserved_room_type_A</th>\n",
       "      <th>reserved_room_type_B</th>\n",
       "      <th>reserved_room_type_C</th>\n",
       "      <th>reserved_room_type_D</th>\n",
       "      <th>reserved_room_type_E</th>\n",
       "      <th>reserved_room_type_F</th>\n",
       "      <th>reserved_room_type_G</th>\n",
       "      <th>reserved_room_type_H</th>\n",
       "      <th>reserved_room_type_L</th>\n",
       "      <th>reserved_room_type_P</th>\n",
       "      <th>deposit_type_No Deposit</th>\n",
       "      <th>deposit_type_Non Refund</th>\n",
       "      <th>deposit_type_Refundable</th>\n",
       "      <th>customer_type_Contract</th>\n",
       "      <th>customer_type_Group</th>\n",
       "      <th>customer_type_Transient</th>\n",
       "      <th>customer_type_Transient-Party</th>\n",
       "      <th>reservation_status_processed</th>\n",
       "    </tr>\n",
       "  </thead>\n",
       "  <tbody>\n",
       "    <tr>\n",
       "      <th>0</th>\n",
       "      <td>0.0</td>\n",
       "      <td>0.275441</td>\n",
       "      <td>0.923077</td>\n",
       "      <td>0.105263</td>\n",
       "      <td>0.10</td>\n",
       "      <td>0.036364</td>\n",
       "      <td>0.0</td>\n",
       "      <td>0.0</td>\n",
       "      <td>0.0</td>\n",
       "      <td>0.0</td>\n",
       "      <td>0.0</td>\n",
       "      <td>0.013536</td>\n",
       "      <td>0.0</td>\n",
       "      <td>0.0</td>\n",
       "      <td>0.666667</td>\n",
       "      <td>1.000000</td>\n",
       "      <td>0.266667</td>\n",
       "      <td>0.0</td>\n",
       "      <td>1.0</td>\n",
       "      <td>1.0</td>\n",
       "      <td>0.0</td>\n",
       "      <td>0.0</td>\n",
       "      <td>0.0</td>\n",
       "      <td>0.0</td>\n",
       "      <td>0.0</td>\n",
       "      <td>0.0</td>\n",
       "      <td>0.0</td>\n",
       "      <td>1.0</td>\n",
       "      <td>0.0</td>\n",
       "      <td>0.0</td>\n",
       "      <td>0.0</td>\n",
       "      <td>0.0</td>\n",
       "      <td>0.0</td>\n",
       "      <td>1.0</td>\n",
       "      <td>0.0</td>\n",
       "      <td>0.0</td>\n",
       "      <td>0.0</td>\n",
       "      <td>0.0</td>\n",
       "      <td>0.0</td>\n",
       "      <td>0.0</td>\n",
       "      <td>0.0</td>\n",
       "      <td>0.0</td>\n",
       "      <td>1.0</td>\n",
       "      <td>0.0</td>\n",
       "      <td>0.0</td>\n",
       "      <td>0.0</td>\n",
       "      <td>0.0</td>\n",
       "      <td>1.0</td>\n",
       "      <td>0.0</td>\n",
       "      <td>0.0</td>\n",
       "      <td>0.0</td>\n",
       "      <td>0.0</td>\n",
       "      <td>1.0</td>\n",
       "      <td>0.0</td>\n",
       "      <td>0.0</td>\n",
       "    </tr>\n",
       "    <tr>\n",
       "      <th>1</th>\n",
       "      <td>1.0</td>\n",
       "      <td>0.111262</td>\n",
       "      <td>0.538462</td>\n",
       "      <td>0.000000</td>\n",
       "      <td>0.06</td>\n",
       "      <td>0.036364</td>\n",
       "      <td>0.0</td>\n",
       "      <td>0.0</td>\n",
       "      <td>0.0</td>\n",
       "      <td>0.0</td>\n",
       "      <td>0.0</td>\n",
       "      <td>0.015330</td>\n",
       "      <td>0.0</td>\n",
       "      <td>0.0</td>\n",
       "      <td>0.333333</td>\n",
       "      <td>0.545455</td>\n",
       "      <td>0.500000</td>\n",
       "      <td>1.0</td>\n",
       "      <td>0.0</td>\n",
       "      <td>1.0</td>\n",
       "      <td>0.0</td>\n",
       "      <td>0.0</td>\n",
       "      <td>0.0</td>\n",
       "      <td>0.0</td>\n",
       "      <td>0.0</td>\n",
       "      <td>0.0</td>\n",
       "      <td>0.0</td>\n",
       "      <td>0.0</td>\n",
       "      <td>0.0</td>\n",
       "      <td>0.0</td>\n",
       "      <td>1.0</td>\n",
       "      <td>0.0</td>\n",
       "      <td>0.0</td>\n",
       "      <td>0.0</td>\n",
       "      <td>0.0</td>\n",
       "      <td>1.0</td>\n",
       "      <td>0.0</td>\n",
       "      <td>1.0</td>\n",
       "      <td>0.0</td>\n",
       "      <td>0.0</td>\n",
       "      <td>0.0</td>\n",
       "      <td>0.0</td>\n",
       "      <td>0.0</td>\n",
       "      <td>0.0</td>\n",
       "      <td>0.0</td>\n",
       "      <td>0.0</td>\n",
       "      <td>0.0</td>\n",
       "      <td>1.0</td>\n",
       "      <td>0.0</td>\n",
       "      <td>0.0</td>\n",
       "      <td>0.0</td>\n",
       "      <td>0.0</td>\n",
       "      <td>1.0</td>\n",
       "      <td>0.0</td>\n",
       "      <td>0.0</td>\n",
       "    </tr>\n",
       "    <tr>\n",
       "      <th>2</th>\n",
       "      <td>0.0</td>\n",
       "      <td>0.033921</td>\n",
       "      <td>1.000000</td>\n",
       "      <td>0.000000</td>\n",
       "      <td>0.06</td>\n",
       "      <td>0.054545</td>\n",
       "      <td>0.0</td>\n",
       "      <td>0.0</td>\n",
       "      <td>0.0</td>\n",
       "      <td>0.0</td>\n",
       "      <td>0.0</td>\n",
       "      <td>0.012278</td>\n",
       "      <td>0.0</td>\n",
       "      <td>0.2</td>\n",
       "      <td>0.666667</td>\n",
       "      <td>1.000000</td>\n",
       "      <td>0.966667</td>\n",
       "      <td>1.0</td>\n",
       "      <td>0.0</td>\n",
       "      <td>1.0</td>\n",
       "      <td>0.0</td>\n",
       "      <td>0.0</td>\n",
       "      <td>0.0</td>\n",
       "      <td>0.0</td>\n",
       "      <td>0.0</td>\n",
       "      <td>0.0</td>\n",
       "      <td>0.0</td>\n",
       "      <td>0.0</td>\n",
       "      <td>0.0</td>\n",
       "      <td>1.0</td>\n",
       "      <td>0.0</td>\n",
       "      <td>0.0</td>\n",
       "      <td>0.0</td>\n",
       "      <td>0.0</td>\n",
       "      <td>0.0</td>\n",
       "      <td>1.0</td>\n",
       "      <td>0.0</td>\n",
       "      <td>1.0</td>\n",
       "      <td>0.0</td>\n",
       "      <td>0.0</td>\n",
       "      <td>0.0</td>\n",
       "      <td>0.0</td>\n",
       "      <td>0.0</td>\n",
       "      <td>0.0</td>\n",
       "      <td>0.0</td>\n",
       "      <td>0.0</td>\n",
       "      <td>0.0</td>\n",
       "      <td>1.0</td>\n",
       "      <td>0.0</td>\n",
       "      <td>0.0</td>\n",
       "      <td>0.0</td>\n",
       "      <td>0.0</td>\n",
       "      <td>0.0</td>\n",
       "      <td>1.0</td>\n",
       "      <td>0.0</td>\n",
       "    </tr>\n",
       "    <tr>\n",
       "      <th>3</th>\n",
       "      <td>0.0</td>\n",
       "      <td>0.001357</td>\n",
       "      <td>0.192308</td>\n",
       "      <td>0.000000</td>\n",
       "      <td>0.02</td>\n",
       "      <td>0.018182</td>\n",
       "      <td>0.0</td>\n",
       "      <td>0.0</td>\n",
       "      <td>0.0</td>\n",
       "      <td>0.0</td>\n",
       "      <td>0.0</td>\n",
       "      <td>0.018752</td>\n",
       "      <td>0.0</td>\n",
       "      <td>0.0</td>\n",
       "      <td>0.666667</td>\n",
       "      <td>0.181818</td>\n",
       "      <td>0.300000</td>\n",
       "      <td>1.0</td>\n",
       "      <td>0.0</td>\n",
       "      <td>1.0</td>\n",
       "      <td>0.0</td>\n",
       "      <td>0.0</td>\n",
       "      <td>0.0</td>\n",
       "      <td>0.0</td>\n",
       "      <td>0.0</td>\n",
       "      <td>0.0</td>\n",
       "      <td>0.0</td>\n",
       "      <td>0.0</td>\n",
       "      <td>0.0</td>\n",
       "      <td>0.0</td>\n",
       "      <td>1.0</td>\n",
       "      <td>0.0</td>\n",
       "      <td>0.0</td>\n",
       "      <td>0.0</td>\n",
       "      <td>0.0</td>\n",
       "      <td>1.0</td>\n",
       "      <td>0.0</td>\n",
       "      <td>1.0</td>\n",
       "      <td>0.0</td>\n",
       "      <td>0.0</td>\n",
       "      <td>0.0</td>\n",
       "      <td>0.0</td>\n",
       "      <td>0.0</td>\n",
       "      <td>0.0</td>\n",
       "      <td>0.0</td>\n",
       "      <td>0.0</td>\n",
       "      <td>0.0</td>\n",
       "      <td>1.0</td>\n",
       "      <td>0.0</td>\n",
       "      <td>0.0</td>\n",
       "      <td>0.0</td>\n",
       "      <td>0.0</td>\n",
       "      <td>0.0</td>\n",
       "      <td>1.0</td>\n",
       "      <td>0.0</td>\n",
       "    </tr>\n",
       "    <tr>\n",
       "      <th>4</th>\n",
       "      <td>0.0</td>\n",
       "      <td>0.094980</td>\n",
       "      <td>0.288462</td>\n",
       "      <td>0.105263</td>\n",
       "      <td>0.04</td>\n",
       "      <td>0.036364</td>\n",
       "      <td>0.0</td>\n",
       "      <td>0.0</td>\n",
       "      <td>0.0</td>\n",
       "      <td>0.0</td>\n",
       "      <td>0.0</td>\n",
       "      <td>0.021156</td>\n",
       "      <td>0.0</td>\n",
       "      <td>0.0</td>\n",
       "      <td>1.000000</td>\n",
       "      <td>0.272727</td>\n",
       "      <td>0.633333</td>\n",
       "      <td>1.0</td>\n",
       "      <td>0.0</td>\n",
       "      <td>0.0</td>\n",
       "      <td>0.0</td>\n",
       "      <td>0.0</td>\n",
       "      <td>1.0</td>\n",
       "      <td>0.0</td>\n",
       "      <td>0.0</td>\n",
       "      <td>0.0</td>\n",
       "      <td>0.0</td>\n",
       "      <td>0.0</td>\n",
       "      <td>0.0</td>\n",
       "      <td>0.0</td>\n",
       "      <td>1.0</td>\n",
       "      <td>0.0</td>\n",
       "      <td>0.0</td>\n",
       "      <td>0.0</td>\n",
       "      <td>0.0</td>\n",
       "      <td>1.0</td>\n",
       "      <td>0.0</td>\n",
       "      <td>1.0</td>\n",
       "      <td>0.0</td>\n",
       "      <td>0.0</td>\n",
       "      <td>0.0</td>\n",
       "      <td>0.0</td>\n",
       "      <td>0.0</td>\n",
       "      <td>0.0</td>\n",
       "      <td>0.0</td>\n",
       "      <td>0.0</td>\n",
       "      <td>0.0</td>\n",
       "      <td>1.0</td>\n",
       "      <td>0.0</td>\n",
       "      <td>0.0</td>\n",
       "      <td>0.0</td>\n",
       "      <td>0.0</td>\n",
       "      <td>1.0</td>\n",
       "      <td>0.0</td>\n",
       "      <td>0.0</td>\n",
       "    </tr>\n",
       "  </tbody>\n",
       "</table>\n",
       "</div>"
      ],
      "text/plain": [
       "   is_canceled  lead_time  arrival_date_week_number  stays_in_weekend_nights  \\\n",
       "0          0.0   0.275441                  0.923077                 0.105263   \n",
       "1          1.0   0.111262                  0.538462                 0.000000   \n",
       "2          0.0   0.033921                  1.000000                 0.000000   \n",
       "3          0.0   0.001357                  0.192308                 0.000000   \n",
       "4          0.0   0.094980                  0.288462                 0.105263   \n",
       "\n",
       "   stays_in_week_nights    adults  children  babies  is_repeated_guest  \\\n",
       "0                  0.10  0.036364       0.0     0.0                0.0   \n",
       "1                  0.06  0.036364       0.0     0.0                0.0   \n",
       "2                  0.06  0.054545       0.0     0.0                0.0   \n",
       "3                  0.02  0.018182       0.0     0.0                0.0   \n",
       "4                  0.04  0.036364       0.0     0.0                0.0   \n",
       "\n",
       "   previous_cancellations  previous_bookings_not_canceled       adr  \\\n",
       "0                     0.0                             0.0  0.013536   \n",
       "1                     0.0                             0.0  0.015330   \n",
       "2                     0.0                             0.0  0.012278   \n",
       "3                     0.0                             0.0  0.018752   \n",
       "4                     0.0                             0.0  0.021156   \n",
       "\n",
       "   required_car_parking_spaces  total_of_special_requests  \\\n",
       "0                          0.0                        0.0   \n",
       "1                          0.0                        0.0   \n",
       "2                          0.0                        0.2   \n",
       "3                          0.0                        0.0   \n",
       "4                          0.0                        0.0   \n",
       "\n",
       "   year_res_status_date  month_res_status_date  day_res_status_date  \\\n",
       "0              0.666667               1.000000             0.266667   \n",
       "1              0.333333               0.545455             0.500000   \n",
       "2              0.666667               1.000000             0.966667   \n",
       "3              0.666667               0.181818             0.300000   \n",
       "4              1.000000               0.272727             0.633333   \n",
       "\n",
       "   hotel_City Hotel  hotel_Resort Hotel  meal_BB  meal_FB  meal_HB  meal_SC  \\\n",
       "0               0.0                 1.0      1.0      0.0      0.0      0.0   \n",
       "1               1.0                 0.0      1.0      0.0      0.0      0.0   \n",
       "2               1.0                 0.0      1.0      0.0      0.0      0.0   \n",
       "3               1.0                 0.0      1.0      0.0      0.0      0.0   \n",
       "4               1.0                 0.0      0.0      0.0      0.0      1.0   \n",
       "\n",
       "   meal_Undefined  market_segment_Aviation  market_segment_Complementary  \\\n",
       "0             0.0                      0.0                           0.0   \n",
       "1             0.0                      0.0                           0.0   \n",
       "2             0.0                      0.0                           0.0   \n",
       "3             0.0                      0.0                           0.0   \n",
       "4             0.0                      0.0                           0.0   \n",
       "\n",
       "   market_segment_Corporate  market_segment_Direct  market_segment_Groups  \\\n",
       "0                       0.0                    1.0                    0.0   \n",
       "1                       0.0                    0.0                    0.0   \n",
       "2                       0.0                    0.0                    0.0   \n",
       "3                       0.0                    0.0                    0.0   \n",
       "4                       0.0                    0.0                    0.0   \n",
       "\n",
       "   market_segment_Offline TA/TO  market_segment_Online TA  \\\n",
       "0                           0.0                       0.0   \n",
       "1                           0.0                       1.0   \n",
       "2                           1.0                       0.0   \n",
       "3                           0.0                       1.0   \n",
       "4                           0.0                       1.0   \n",
       "\n",
       "   market_segment_Undefined  distribution_channel_Corporate  \\\n",
       "0                       0.0                             0.0   \n",
       "1                       0.0                             0.0   \n",
       "2                       0.0                             0.0   \n",
       "3                       0.0                             0.0   \n",
       "4                       0.0                             0.0   \n",
       "\n",
       "   distribution_channel_Direct  distribution_channel_GDS  \\\n",
       "0                          1.0                       0.0   \n",
       "1                          0.0                       0.0   \n",
       "2                          0.0                       0.0   \n",
       "3                          0.0                       0.0   \n",
       "4                          0.0                       0.0   \n",
       "\n",
       "   distribution_channel_TA/TO  distribution_channel_Undefined  \\\n",
       "0                         0.0                             0.0   \n",
       "1                         1.0                             0.0   \n",
       "2                         1.0                             0.0   \n",
       "3                         1.0                             0.0   \n",
       "4                         1.0                             0.0   \n",
       "\n",
       "   reserved_room_type_A  reserved_room_type_B  reserved_room_type_C  \\\n",
       "0                   0.0                   0.0                   0.0   \n",
       "1                   1.0                   0.0                   0.0   \n",
       "2                   1.0                   0.0                   0.0   \n",
       "3                   1.0                   0.0                   0.0   \n",
       "4                   1.0                   0.0                   0.0   \n",
       "\n",
       "   reserved_room_type_D  reserved_room_type_E  reserved_room_type_F  \\\n",
       "0                   0.0                   0.0                   1.0   \n",
       "1                   0.0                   0.0                   0.0   \n",
       "2                   0.0                   0.0                   0.0   \n",
       "3                   0.0                   0.0                   0.0   \n",
       "4                   0.0                   0.0                   0.0   \n",
       "\n",
       "   reserved_room_type_G  reserved_room_type_H  reserved_room_type_L  \\\n",
       "0                   0.0                   0.0                   0.0   \n",
       "1                   0.0                   0.0                   0.0   \n",
       "2                   0.0                   0.0                   0.0   \n",
       "3                   0.0                   0.0                   0.0   \n",
       "4                   0.0                   0.0                   0.0   \n",
       "\n",
       "   reserved_room_type_P  deposit_type_No Deposit  deposit_type_Non Refund  \\\n",
       "0                   0.0                      1.0                      0.0   \n",
       "1                   0.0                      1.0                      0.0   \n",
       "2                   0.0                      1.0                      0.0   \n",
       "3                   0.0                      1.0                      0.0   \n",
       "4                   0.0                      1.0                      0.0   \n",
       "\n",
       "   deposit_type_Refundable  customer_type_Contract  customer_type_Group  \\\n",
       "0                      0.0                     0.0                  0.0   \n",
       "1                      0.0                     0.0                  0.0   \n",
       "2                      0.0                     0.0                  0.0   \n",
       "3                      0.0                     0.0                  0.0   \n",
       "4                      0.0                     0.0                  0.0   \n",
       "\n",
       "   customer_type_Transient  customer_type_Transient-Party  \\\n",
       "0                      1.0                            0.0   \n",
       "1                      1.0                            0.0   \n",
       "2                      0.0                            1.0   \n",
       "3                      0.0                            1.0   \n",
       "4                      1.0                            0.0   \n",
       "\n",
       "   reservation_status_processed  \n",
       "0                           0.0  \n",
       "1                           0.0  \n",
       "2                           0.0  \n",
       "3                           0.0  \n",
       "4                           0.0  "
      ]
     },
     "execution_count": 6,
     "metadata": {},
     "output_type": "execute_result"
    }
   ],
   "source": [
    "pd.set_option(\"display.max_columns\",None) # Visualizar todas las columnas\n",
    "df_preprocessing = pd.read_csv(\"../Data/Preprocessing/processed_data_.csv\")\n",
    "print(df_preprocessing.shape)\n",
    "df_preprocessing.head()"
   ]
  },
  {
   "cell_type": "code",
   "execution_count": 7,
   "metadata": {},
   "outputs": [],
   "source": [
    "df_preprocessing.isnull().sum()\n",
    "df_preprocessing = df_preprocessing.dropna()"
   ]
  },
  {
   "cell_type": "code",
   "execution_count": 8,
   "metadata": {},
   "outputs": [
    {
     "data": {
      "text/plain": [
       "Index(['is_canceled', 'lead_time', 'arrival_date_week_number',\n",
       "       'stays_in_weekend_nights', 'stays_in_week_nights', 'adults', 'children',\n",
       "       'babies', 'is_repeated_guest', 'previous_cancellations',\n",
       "       'previous_bookings_not_canceled', 'adr', 'required_car_parking_spaces',\n",
       "       'total_of_special_requests', 'year_res_status_date',\n",
       "       'month_res_status_date', 'day_res_status_date', 'hotel_City Hotel',\n",
       "       'hotel_Resort Hotel', 'meal_BB', 'meal_FB', 'meal_HB', 'meal_SC',\n",
       "       'meal_Undefined', 'market_segment_Aviation',\n",
       "       'market_segment_Complementary', 'market_segment_Corporate',\n",
       "       'market_segment_Direct', 'market_segment_Groups',\n",
       "       'market_segment_Offline TA/TO', 'market_segment_Online TA',\n",
       "       'market_segment_Undefined', 'distribution_channel_Corporate',\n",
       "       'distribution_channel_Direct', 'distribution_channel_GDS',\n",
       "       'distribution_channel_TA/TO', 'distribution_channel_Undefined',\n",
       "       'reserved_room_type_A', 'reserved_room_type_B', 'reserved_room_type_C',\n",
       "       'reserved_room_type_D', 'reserved_room_type_E', 'reserved_room_type_F',\n",
       "       'reserved_room_type_G', 'reserved_room_type_H', 'reserved_room_type_L',\n",
       "       'reserved_room_type_P', 'deposit_type_No Deposit',\n",
       "       'deposit_type_Non Refund', 'deposit_type_Refundable',\n",
       "       'customer_type_Contract', 'customer_type_Group',\n",
       "       'customer_type_Transient', 'customer_type_Transient-Party',\n",
       "       'reservation_status_processed'],\n",
       "      dtype='object')"
      ]
     },
     "execution_count": 8,
     "metadata": {},
     "output_type": "execute_result"
    }
   ],
   "source": [
    "df_preprocessing.columns"
   ]
  },
  {
   "cell_type": "code",
   "execution_count": 9,
   "metadata": {},
   "outputs": [],
   "source": [
    "##### VARIABLES QUE RESULTARON SIGNIFICATIVAS SEGUN LOGISTIC REGRESSION #########\n",
    "\n",
    "# cliente previo\n",
    "# cancelaciones previas\n",
    "# adr\n",
    "# 'required_car_parking_spaces'\n",
    "# 'total_of_special_requests', "
   ]
  },
  {
   "attachments": {},
   "cell_type": "markdown",
   "metadata": {},
   "source": [
    "### Particion variables dependientes e independientes."
   ]
  },
  {
   "cell_type": "code",
   "execution_count": 10,
   "metadata": {},
   "outputs": [],
   "source": [
    "X = df_preprocessing.drop(['is_canceled', 'lead_time', 'arrival_date_week_number',\n",
    "       'stays_in_weekend_nights', 'stays_in_week_nights', 'adults', 'children',\n",
    "       'babies', \n",
    "       'previous_bookings_not_canceled','year_res_status_date',\n",
    "       'month_res_status_date', 'day_res_status_date', 'hotel_City Hotel',\n",
    "       'hotel_Resort Hotel', 'meal_BB', 'meal_FB', 'meal_HB', 'meal_SC',\n",
    "       'meal_Undefined', 'market_segment_Aviation',\n",
    "       'market_segment_Complementary', 'market_segment_Corporate',\n",
    "       'market_segment_Direct', 'market_segment_Groups',\n",
    "       'market_segment_Offline TA/TO', 'market_segment_Online TA',\n",
    "       'market_segment_Undefined', 'distribution_channel_Corporate',\n",
    "       'distribution_channel_Direct', 'distribution_channel_GDS',\n",
    "       'distribution_channel_TA/TO', 'distribution_channel_Undefined',\n",
    "       'reserved_room_type_A', 'reserved_room_type_B', 'reserved_room_type_C',\n",
    "       'reserved_room_type_D', 'reserved_room_type_E', 'reserved_room_type_F',\n",
    "       'reserved_room_type_G', 'reserved_room_type_H', 'reserved_room_type_L',\n",
    "       'reserved_room_type_P', 'deposit_type_No Deposit',\n",
    "       'deposit_type_Non Refund', 'deposit_type_Refundable',\n",
    "       'customer_type_Contract', 'customer_type_Group',\n",
    "       'customer_type_Transient', 'customer_type_Transient-Party',\n",
    "       'reservation_status_processed'],axis=1)\n",
    "y = df_preprocessing[\"is_canceled\"].values"
   ]
  },
  {
   "cell_type": "code",
   "execution_count": 11,
   "metadata": {},
   "outputs": [],
   "source": [
    "from sklearn.model_selection import train_test_split\n",
    "\n",
    "X_train,X_test,y_train,y_test = train_test_split(X,y,test_size=0.2,\n",
    "                                                random_state=42)"
   ]
  },
  {
   "attachments": {},
   "cell_type": "markdown",
   "metadata": {},
   "source": [
    "### Validando Shapes:"
   ]
  },
  {
   "cell_type": "code",
   "execution_count": 12,
   "metadata": {},
   "outputs": [
    {
     "data": {
      "text/plain": [
       "(95508, 5)"
      ]
     },
     "execution_count": 12,
     "metadata": {},
     "output_type": "execute_result"
    }
   ],
   "source": [
    "X_train.shape"
   ]
  },
  {
   "cell_type": "code",
   "execution_count": 13,
   "metadata": {},
   "outputs": [
    {
     "data": {
      "text/plain": [
       "(23878, 5)"
      ]
     },
     "execution_count": 13,
     "metadata": {},
     "output_type": "execute_result"
    }
   ],
   "source": [
    "X_test.shape"
   ]
  },
  {
   "cell_type": "code",
   "execution_count": 14,
   "metadata": {},
   "outputs": [
    {
     "data": {
      "text/plain": [
       "Index(['is_repeated_guest', 'previous_cancellations', 'adr',\n",
       "       'required_car_parking_spaces', 'total_of_special_requests'],\n",
       "      dtype='object')"
      ]
     },
     "execution_count": 14,
     "metadata": {},
     "output_type": "execute_result"
    }
   ],
   "source": [
    "X_train.columns"
   ]
  },
  {
   "attachments": {},
   "cell_type": "markdown",
   "metadata": {},
   "source": [
    "# Regresión Logística:"
   ]
  },
  {
   "cell_type": "code",
   "execution_count": 15,
   "metadata": {},
   "outputs": [
    {
     "name": "stdout",
     "output_type": "stream",
     "text": [
      "0.679998324817824\n"
     ]
    }
   ],
   "source": [
    "model_lr = LogisticRegression(random_state=42)\n",
    "# Entrenamiento del modelo...\n",
    "model_lr.fit(X_train,y_train)\n",
    "# Predicciones...\n",
    "y_pred_lr = model_lr.predict(X_test)\n",
    "print(accuracy_score(y_test,y_pred_lr))"
   ]
  },
  {
   "attachments": {},
   "cell_type": "markdown",
   "metadata": {},
   "source": [
    "# Redes neuronales:"
   ]
  },
  {
   "cell_type": "code",
   "execution_count": 16,
   "metadata": {},
   "outputs": [
    {
     "name": "stderr",
     "output_type": "stream",
     "text": [
      "2023-03-22 21:45:19.233852: I tensorflow/core/platform/cpu_feature_guard.cc:193] This TensorFlow binary is optimized with oneAPI Deep Neural Network Library (oneDNN) to use the following CPU instructions in performance-critical operations:  AVX2 FMA\n",
      "To enable them in other operations, rebuild TensorFlow with the appropriate compiler flags.\n",
      "2023-03-22 21:45:19.874701: W tensorflow/compiler/xla/stream_executor/platform/default/dso_loader.cc:64] Could not load dynamic library 'libcudart.so.11.0'; dlerror: libcudart.so.11.0: cannot open shared object file: No such file or directory\n",
      "2023-03-22 21:45:19.874726: I tensorflow/compiler/xla/stream_executor/cuda/cudart_stub.cc:29] Ignore above cudart dlerror if you do not have a GPU set up on your machine.\n",
      "2023-03-22 21:45:22.420690: W tensorflow/compiler/xla/stream_executor/platform/default/dso_loader.cc:64] Could not load dynamic library 'libnvinfer.so.7'; dlerror: libnvinfer.so.7: cannot open shared object file: No such file or directory\n",
      "2023-03-22 21:45:22.421568: W tensorflow/compiler/xla/stream_executor/platform/default/dso_loader.cc:64] Could not load dynamic library 'libnvinfer_plugin.so.7'; dlerror: libnvinfer_plugin.so.7: cannot open shared object file: No such file or directory\n",
      "2023-03-22 21:45:22.421595: W tensorflow/compiler/tf2tensorrt/utils/py_utils.cc:38] TF-TRT Warning: Cannot dlopen some TensorRT libraries. If you would like to use Nvidia GPU with TensorRT, please make sure the missing libraries mentioned above are installed properly.\n"
     ]
    }
   ],
   "source": [
    "from keras import models, layers, optimizers, regularizers\n",
    "from keras.callbacks import Callback\n",
    "\n",
    "class TrainingCallback(Callback):\n",
    "  def on_epoch_end(self, epoch, logs = {}):\n",
    "    if logs.get(\"accuracy\") > 0.85:\n",
    "      print(\"Lo logramos, nuestro modelo llego a 85%, detenemos el entrenamiento\")\n",
    "      self.model.stop_training = True"
   ]
  },
  {
   "cell_type": "code",
   "execution_count": 17,
   "metadata": {},
   "outputs": [
    {
     "name": "stderr",
     "output_type": "stream",
     "text": [
      "2023-03-22 21:45:24.864348: I tensorflow/compiler/xla/stream_executor/cuda/cuda_gpu_executor.cc:981] successful NUMA node read from SysFS had negative value (-1), but there must be at least one NUMA node, so returning NUMA node zero\n",
      "2023-03-22 21:45:24.865036: W tensorflow/compiler/xla/stream_executor/platform/default/dso_loader.cc:64] Could not load dynamic library 'libcudart.so.11.0'; dlerror: libcudart.so.11.0: cannot open shared object file: No such file or directory\n",
      "2023-03-22 21:45:24.865245: W tensorflow/compiler/xla/stream_executor/platform/default/dso_loader.cc:64] Could not load dynamic library 'libcublas.so.11'; dlerror: libcublas.so.11: cannot open shared object file: No such file or directory\n",
      "2023-03-22 21:45:24.865514: W tensorflow/compiler/xla/stream_executor/platform/default/dso_loader.cc:64] Could not load dynamic library 'libcublasLt.so.11'; dlerror: libcublasLt.so.11: cannot open shared object file: No such file or directory\n",
      "2023-03-22 21:45:24.865605: W tensorflow/compiler/xla/stream_executor/platform/default/dso_loader.cc:64] Could not load dynamic library 'libcufft.so.10'; dlerror: libcufft.so.10: cannot open shared object file: No such file or directory\n",
      "2023-03-22 21:45:24.865683: W tensorflow/compiler/xla/stream_executor/platform/default/dso_loader.cc:64] Could not load dynamic library 'libcurand.so.10'; dlerror: libcurand.so.10: cannot open shared object file: No such file or directory\n",
      "2023-03-22 21:45:24.865830: W tensorflow/compiler/xla/stream_executor/platform/default/dso_loader.cc:64] Could not load dynamic library 'libcusolver.so.11'; dlerror: libcusolver.so.11: cannot open shared object file: No such file or directory\n",
      "2023-03-22 21:45:24.865897: W tensorflow/compiler/xla/stream_executor/platform/default/dso_loader.cc:64] Could not load dynamic library 'libcusparse.so.11'; dlerror: libcusparse.so.11: cannot open shared object file: No such file or directory\n",
      "2023-03-22 21:45:24.866020: W tensorflow/compiler/xla/stream_executor/platform/default/dso_loader.cc:64] Could not load dynamic library 'libcudnn.so.8'; dlerror: libcudnn.so.8: cannot open shared object file: No such file or directory\n",
      "2023-03-22 21:45:24.866035: W tensorflow/core/common_runtime/gpu/gpu_device.cc:1934] Cannot dlopen some GPU libraries. Please make sure the missing libraries mentioned above are installed properly if you would like to use GPU. Follow the guide at https://www.tensorflow.org/install/gpu for how to download and setup the required libraries for your platform.\n",
      "Skipping registering GPU devices...\n",
      "2023-03-22 21:45:24.866997: I tensorflow/core/platform/cpu_feature_guard.cc:193] This TensorFlow binary is optimized with oneAPI Deep Neural Network Library (oneDNN) to use the following CPU instructions in performance-critical operations:  AVX2 FMA\n",
      "To enable them in other operations, rebuild TensorFlow with the appropriate compiler flags.\n"
     ]
    },
    {
     "name": "stdout",
     "output_type": "stream",
     "text": [
      "Epoch 1/50\n",
      "796/796 [==============================] - 7s 6ms/step - loss: 0.6134 - accuracy: 0.6589 - val_loss: 0.5749 - val_accuracy: 0.6774\n",
      "Epoch 2/50\n",
      "796/796 [==============================] - 4s 5ms/step - loss: 0.5798 - accuracy: 0.6807 - val_loss: 0.5626 - val_accuracy: 0.6962\n",
      "Epoch 3/50\n",
      "796/796 [==============================] - 4s 5ms/step - loss: 0.5719 - accuracy: 0.6818 - val_loss: 0.5580 - val_accuracy: 0.6911\n",
      "Epoch 4/50\n",
      "796/796 [==============================] - 4s 5ms/step - loss: 0.5681 - accuracy: 0.6801 - val_loss: 0.5582 - val_accuracy: 0.6891\n",
      "Epoch 5/50\n",
      "796/796 [==============================] - 5s 7ms/step - loss: 0.5661 - accuracy: 0.6825 - val_loss: 0.5546 - val_accuracy: 0.6900\n",
      "Epoch 6/50\n",
      "796/796 [==============================] - 7s 8ms/step - loss: 0.5648 - accuracy: 0.6820 - val_loss: 0.5570 - val_accuracy: 0.6816\n",
      "Epoch 7/50\n",
      "796/796 [==============================] - 6s 8ms/step - loss: 0.5644 - accuracy: 0.6835 - val_loss: 0.5536 - val_accuracy: 0.6941\n",
      "Epoch 8/50\n",
      "796/796 [==============================] - 5s 6ms/step - loss: 0.5622 - accuracy: 0.6818 - val_loss: 0.5518 - val_accuracy: 0.6929\n",
      "Epoch 9/50\n",
      "796/796 [==============================] - 5s 7ms/step - loss: 0.5619 - accuracy: 0.6825 - val_loss: 0.5548 - val_accuracy: 0.6963\n",
      "Epoch 10/50\n",
      "796/796 [==============================] - 6s 8ms/step - loss: 0.5619 - accuracy: 0.6829 - val_loss: 0.5520 - val_accuracy: 0.6896\n",
      "Epoch 11/50\n",
      "796/796 [==============================] - 6s 7ms/step - loss: 0.5613 - accuracy: 0.6835 - val_loss: 0.5503 - val_accuracy: 0.6923\n",
      "Epoch 12/50\n",
      "796/796 [==============================] - 6s 7ms/step - loss: 0.5598 - accuracy: 0.6832 - val_loss: 0.5513 - val_accuracy: 0.6896\n",
      "Epoch 13/50\n",
      "796/796 [==============================] - 5s 6ms/step - loss: 0.5603 - accuracy: 0.6835 - val_loss: 0.5513 - val_accuracy: 0.6901\n",
      "Epoch 14/50\n",
      "796/796 [==============================] - 4s 5ms/step - loss: 0.5596 - accuracy: 0.6830 - val_loss: 0.5492 - val_accuracy: 0.6925\n",
      "Epoch 15/50\n",
      "796/796 [==============================] - 2s 2ms/step - loss: 0.5593 - accuracy: 0.6861 - val_loss: 0.5486 - val_accuracy: 0.6959\n",
      "Epoch 16/50\n",
      "796/796 [==============================] - 1s 2ms/step - loss: 0.5602 - accuracy: 0.6845 - val_loss: 0.5500 - val_accuracy: 0.6952\n",
      "Epoch 17/50\n",
      "796/796 [==============================] - 1s 1ms/step - loss: 0.5599 - accuracy: 0.6844 - val_loss: 0.5490 - val_accuracy: 0.6988\n",
      "Epoch 18/50\n",
      "796/796 [==============================] - 1s 1ms/step - loss: 0.5578 - accuracy: 0.6863 - val_loss: 0.5489 - val_accuracy: 0.6966\n",
      "Epoch 19/50\n",
      "796/796 [==============================] - 1s 1ms/step - loss: 0.5593 - accuracy: 0.6842 - val_loss: 0.5477 - val_accuracy: 0.6973\n",
      "Epoch 20/50\n",
      "796/796 [==============================] - 1s 1ms/step - loss: 0.5594 - accuracy: 0.6834 - val_loss: 0.5490 - val_accuracy: 0.6932\n",
      "Epoch 21/50\n",
      "796/796 [==============================] - 1s 1ms/step - loss: 0.5594 - accuracy: 0.6832 - val_loss: 0.5496 - val_accuracy: 0.6937\n",
      "Epoch 22/50\n",
      "796/796 [==============================] - 1s 1ms/step - loss: 0.5594 - accuracy: 0.6851 - val_loss: 0.5482 - val_accuracy: 0.6931\n",
      "Epoch 23/50\n",
      "796/796 [==============================] - 1s 2ms/step - loss: 0.5581 - accuracy: 0.6849 - val_loss: 0.5497 - val_accuracy: 0.6999\n",
      "Epoch 24/50\n",
      "796/796 [==============================] - 1s 1ms/step - loss: 0.5590 - accuracy: 0.6851 - val_loss: 0.5499 - val_accuracy: 0.6949\n",
      "Epoch 25/50\n",
      "796/796 [==============================] - 1s 1ms/step - loss: 0.5599 - accuracy: 0.6868 - val_loss: 0.5494 - val_accuracy: 0.6933\n",
      "Epoch 26/50\n",
      "796/796 [==============================] - 1s 1ms/step - loss: 0.5586 - accuracy: 0.6862 - val_loss: 0.5491 - val_accuracy: 0.6937\n",
      "Epoch 27/50\n",
      "796/796 [==============================] - 1s 1ms/step - loss: 0.5582 - accuracy: 0.6857 - val_loss: 0.5495 - val_accuracy: 0.6929\n",
      "Epoch 28/50\n",
      "796/796 [==============================] - 2s 2ms/step - loss: 0.5580 - accuracy: 0.6849 - val_loss: 0.5498 - val_accuracy: 0.6849\n",
      "Epoch 29/50\n",
      "796/796 [==============================] - 1s 2ms/step - loss: 0.5584 - accuracy: 0.6852 - val_loss: 0.5474 - val_accuracy: 0.6946\n",
      "Epoch 30/50\n",
      "796/796 [==============================] - 1s 2ms/step - loss: 0.5590 - accuracy: 0.6858 - val_loss: 0.5501 - val_accuracy: 0.6897\n",
      "Epoch 31/50\n",
      "796/796 [==============================] - 2s 2ms/step - loss: 0.5575 - accuracy: 0.6863 - val_loss: 0.5510 - val_accuracy: 0.6978\n",
      "Epoch 32/50\n",
      "796/796 [==============================] - 4s 5ms/step - loss: 0.5580 - accuracy: 0.6854 - val_loss: 0.5493 - val_accuracy: 0.6901\n",
      "Epoch 33/50\n",
      "796/796 [==============================] - 3s 4ms/step - loss: 0.5581 - accuracy: 0.6866 - val_loss: 0.5481 - val_accuracy: 0.6947\n",
      "Epoch 34/50\n",
      "796/796 [==============================] - 4s 5ms/step - loss: 0.5588 - accuracy: 0.6854 - val_loss: 0.5486 - val_accuracy: 0.6968\n",
      "Epoch 35/50\n",
      "796/796 [==============================] - 4s 5ms/step - loss: 0.5593 - accuracy: 0.6862 - val_loss: 0.5501 - val_accuracy: 0.6955\n",
      "Epoch 36/50\n",
      "796/796 [==============================] - 3s 4ms/step - loss: 0.5584 - accuracy: 0.6860 - val_loss: 0.5497 - val_accuracy: 0.6988\n",
      "Epoch 37/50\n",
      "796/796 [==============================] - 3s 4ms/step - loss: 0.5583 - accuracy: 0.6855 - val_loss: 0.5491 - val_accuracy: 0.7000\n",
      "Epoch 38/50\n",
      "796/796 [==============================] - 1s 2ms/step - loss: 0.5587 - accuracy: 0.6870 - val_loss: 0.5504 - val_accuracy: 0.6987\n",
      "Epoch 39/50\n",
      "796/796 [==============================] - 1s 2ms/step - loss: 0.5581 - accuracy: 0.6850 - val_loss: 0.5512 - val_accuracy: 0.6954\n",
      "Epoch 40/50\n",
      "796/796 [==============================] - 1s 2ms/step - loss: 0.5586 - accuracy: 0.6866 - val_loss: 0.5484 - val_accuracy: 0.6931\n",
      "Epoch 41/50\n",
      "796/796 [==============================] - 1s 1ms/step - loss: 0.5573 - accuracy: 0.6862 - val_loss: 0.5496 - val_accuracy: 0.6939\n",
      "Epoch 42/50\n",
      "796/796 [==============================] - 1s 1ms/step - loss: 0.5580 - accuracy: 0.6869 - val_loss: 0.5504 - val_accuracy: 0.6966\n",
      "Epoch 43/50\n",
      "796/796 [==============================] - 1s 2ms/step - loss: 0.5574 - accuracy: 0.6870 - val_loss: 0.5488 - val_accuracy: 0.6966\n",
      "Epoch 44/50\n",
      "796/796 [==============================] - 3s 3ms/step - loss: 0.5581 - accuracy: 0.6861 - val_loss: 0.5507 - val_accuracy: 0.6947\n",
      "Epoch 45/50\n",
      "796/796 [==============================] - 4s 5ms/step - loss: 0.5572 - accuracy: 0.6860 - val_loss: 0.5496 - val_accuracy: 0.6939\n",
      "Epoch 46/50\n",
      "796/796 [==============================] - 2s 2ms/step - loss: 0.5580 - accuracy: 0.6870 - val_loss: 0.5492 - val_accuracy: 0.6929\n",
      "Epoch 47/50\n",
      "796/796 [==============================] - 1s 1ms/step - loss: 0.5583 - accuracy: 0.6845 - val_loss: 0.5496 - val_accuracy: 0.6938\n",
      "Epoch 48/50\n",
      "796/796 [==============================] - 1s 1ms/step - loss: 0.5584 - accuracy: 0.6841 - val_loss: 0.5496 - val_accuracy: 0.6942\n",
      "Epoch 49/50\n",
      "796/796 [==============================] - 1s 1ms/step - loss: 0.5590 - accuracy: 0.6865 - val_loss: 0.5510 - val_accuracy: 0.6954\n",
      "Epoch 50/50\n",
      "796/796 [==============================] - 1s 1ms/step - loss: 0.5579 - accuracy: 0.6857 - val_loss: 0.5517 - val_accuracy: 0.6941\n"
     ]
    }
   ],
   "source": [
    "# Modelo Redes neuronales con regulizers...\n",
    "NN = models.Sequential()\n",
    "# Capa de entrada...\n",
    "NN.add(layers.Dense(64, activation = \"relu\", input_dim = X_train.shape[1],kernel_initializer=\"he_uniform\"))\n",
    "\n",
    "# DropOut... inactivando el 50% de las neuronas\n",
    "NN.add(layers.Dropout(0.5))\n",
    "\n",
    "# Anadiendo 2 capas mas (ocultas)...\n",
    "NN.add(layers.Dense(32, activation = \"relu\",kernel_initializer=\"he_uniform\")) # input ya se sabe q entra\n",
    "NN.add(layers.Dense(16, activation = \"relu\",kernel_initializer=\"he_uniform\")) # input ya se sabe q entra\n",
    "NN.add(layers.Dense(8, activation = \"relu\",kernel_initializer=\"he_uniform\")) # input ya se sabe q entra\n",
    "# DropOut... inactivando el 40% de las neuronas\n",
    "NN.add(layers.Dropout(0.4))\n",
    "# Capa de salida con func activacion sigmoid por clasificacion binaria...\n",
    "NN.add(layers.Dense(1, activation = \"sigmoid\"))\n",
    "\n",
    "# optimizers...\n",
    "opt = optimizers.SGD(lr=0.01, momentum=0.9)\n",
    "# Compilar modelo...\n",
    "# rmsprop version mejorada descenso gradiente:\n",
    "NN.compile(optimizer=\"rmsprop\", loss=\"binary_crossentropy\",\n",
    "             metrics=\"accuracy\")\n",
    "\n",
    "# Callback:\n",
    "callback = TrainingCallback()\n",
    "#callbacks= [callback] (poner despues de epochs en entrenamiento...)\n",
    "# Entrenando...\n",
    "history = NN.fit(X_train,y_train, epochs=50,\n",
    "                   batch_size = 120, validation_data=(X_test,y_test))"
   ]
  },
  {
   "cell_type": "code",
   "execution_count": 18,
   "metadata": {},
   "outputs": [
    {
     "data": {
      "image/png": "[encoded data removed]",
      "text/plain": [
       "<Figure size 640x480 with 1 Axes>"
      ]
     },
     "metadata": {},
     "output_type": "display_data"
    }
   ],
   "source": [
    "history_dict = history.history\n",
    "loss_values = history_dict[\"loss\"]\n",
    "val_loss_values = history_dict[\"val_loss\"]\n",
    "\n",
    "# epocas igual a rango entre 1 y longitud loss values + 1 para rango en eje x\n",
    "epochs = range(1,len(loss_values)+1)\n",
    "\n",
    "# Grafica...\n",
    "plt.plot(epochs,loss_values,\"o\",label=\"training\")\n",
    "plt.plot(epochs,val_loss_values,\"--\",label=\"validation\")\n",
    "plt.title(\"Comportamiento Funcion de perdida en entrenamiento y validacion\")\n",
    "plt.legend()\n",
    "plt.show()"
   ]
  },
  {
   "cell_type": "code",
   "execution_count": 19,
   "metadata": {},
   "outputs": [
    {
     "data": {
      "image/png": "[encoded data removed]",
      "text/plain": [
       "<Figure size 640x480 with 1 Axes>"
      ]
     },
     "metadata": {},
     "output_type": "display_data"
    }
   ],
   "source": [
    "history_dict = history.history\n",
    "accuracy_values = history_dict[\"accuracy\"]\n",
    "val_accuracy_values = history_dict[\"val_accuracy\"]\n",
    "\n",
    "# epocas igual a rango entre 1 y longitud loss values + 1 para rango en eje x\n",
    "epochs = range(1,len(accuracy_values)+1)\n",
    "\n",
    "# Grafica...\n",
    "plt.plot(epochs,accuracy_values,\"o\",label=\"training\")\n",
    "plt.plot(epochs,val_accuracy_values,\"--\",label=\"validation\")\n",
    "plt.title(\"Comportamiento accuracy en entrenamiento y validacion\")\n",
    "plt.legend()\n",
    "plt.show()"
   ]
  },
  {
   "attachments": {},
   "cell_type": "markdown",
   "metadata": {},
   "source": [
    "# Gradient Boosting Trees"
   ]
  },
  {
   "cell_type": "code",
   "execution_count": 20,
   "metadata": {},
   "outputs": [],
   "source": [
    "from sklearn.ensemble import GradientBoostingClassifier\n",
    "# Optimizacion parametrica...\n",
    "from sklearn.model_selection import RandomizedSearchCV"
   ]
  },
  {
   "cell_type": "code",
   "execution_count": 21,
   "metadata": {},
   "outputs": [
    {
     "name": "stdout",
     "output_type": "stream",
     "text": [
      "GradientBoostingClassifier(learning_rate=0.001, loss='exponential', max_depth=5,\n",
      "                           n_estimators=200, random_state=42)\n",
      "================================================================================\n",
      "{'n_estimators': 200, 'max_depth': 5, 'loss': 'exponential', 'learning_rate': 0.001}\n"
     ]
    }
   ],
   "source": [
    "# Definir regressor...\n",
    "# Se define sin ningun parametro para configurarlos\n",
    "\n",
    "clf_gbt_opt = GradientBoostingClassifier(random_state=42)\n",
    "\n",
    "# Definicon de grilla de parametros...\n",
    "parametros = {\n",
    "    \"loss\": [\"los_loss\",\"exponential\"],\n",
    "    \"learning_rate\": [0.001, 0.01, 0.1, 0.2],\n",
    "    \"n_estimators\": [100, 200, 300, 400],\n",
    "    \"max_depth\": [3, 5, 8, 10]\n",
    "}\n",
    "\n",
    "rand_est_gbt = RandomizedSearchCV(clf_gbt_opt, parametros, n_iter=5,\n",
    "    cv=3, scoring=\"accuracy\").fit(X_train,y_train)\n",
    "\n",
    "print(rand_est_gbt.best_estimator_)\n",
    "\n",
    "print(\"=\"*80)\n",
    "print(rand_est_gbt.best_params_)"
   ]
  },
  {
   "cell_type": "code",
   "execution_count": 22,
   "metadata": {},
   "outputs": [
    {
     "name": "stdout",
     "output_type": "stream",
     "text": [
      "       real_date_canceled  prob_canceled\n",
      "0                     0.0       0.336570\n",
      "1                     1.0       0.337571\n",
      "2                     1.0       0.337571\n",
      "3                     1.0       0.399183\n",
      "4                     1.0       0.399183\n",
      "...                   ...            ...\n",
      "23873                 0.0       0.337571\n",
      "23874                 1.0       0.466305\n",
      "23875                 1.0       0.350614\n",
      "23876                 0.0       0.350614\n",
      "23877                 1.0       0.378306\n",
      "\n",
      "[23878 rows x 2 columns]\n"
     ]
    }
   ],
   "source": [
    "# Predicciones de la probabilidad de cancelaciones con el modelo\n",
    "gbt_preds_opt = rand_est_gbt.predict_proba(X_test)\n",
    "\n",
    "# Dataframes con probabilidades de cancelaciones predichas y datos reales\n",
    "preds_df_opt = pd.DataFrame(gbt_preds_opt[:,1], columns = ['prob_canceled'])\n",
    "true_df = pd.DataFrame(y_test, columns=[\"real_date_canceled\"])\n",
    "\n",
    "# Comparación de los dos marcos de datos\n",
    "print(pd.concat([true_df.reset_index(drop = True), preds_df_opt], axis = 1))"
   ]
  },
  {
   "cell_type": "code",
   "execution_count": 23,
   "metadata": {},
   "outputs": [
    {
     "name": "stdout",
     "output_type": "stream",
     "text": [
      "[0. 0. 0. ... 0. 0. 0.]\n"
     ]
    }
   ],
   "source": [
    "# Predicciones...\n",
    "gbt_preds_opt = rand_est_gbt.predict(X_test)\n",
    "\n",
    "# Cadena de valores de los resulta\n",
    "print(gbt_preds_opt)"
   ]
  },
  {
   "cell_type": "code",
   "execution_count": 24,
   "metadata": {},
   "outputs": [
    {
     "name": "stdout",
     "output_type": "stream",
     "text": [
      "              precision    recall  f1-score   support\n",
      "\n",
      "Non-Canceled       0.63      1.00      0.77     14963\n",
      "    Canceled       0.00      0.00      0.00      8915\n",
      "\n",
      "    accuracy                           0.63     23878\n",
      "   macro avg       0.31      0.50      0.39     23878\n",
      "weighted avg       0.39      0.63      0.48     23878\n",
      "\n"
     ]
    }
   ],
   "source": [
    "# Reporte de clasificación del modelo\n",
    "target_names = ['Non-Canceled', 'Canceled']\n",
    "print(classification_report(y_test, gbt_preds_opt, target_names=target_names))"
   ]
  },
  {
   "cell_type": "code",
   "execution_count": 25,
   "metadata": {},
   "outputs": [
    {
     "data": {
      "text/plain": [
       "array([0., 1.])"
      ]
     },
     "execution_count": 25,
     "metadata": {},
     "output_type": "execute_result"
    }
   ],
   "source": [
    "rand_est_gbt.classes_"
   ]
  },
  {
   "cell_type": "code",
   "execution_count": 26,
   "metadata": {},
   "outputs": [
    {
     "data": {
      "text/plain": [
       "array([[0.66343031, 0.33656969],\n",
       "       [0.66242859, 0.33757141],\n",
       "       [0.66242859, 0.33757141],\n",
       "       ...,\n",
       "       [0.64938562, 0.35061438],\n",
       "       [0.64938562, 0.35061438],\n",
       "       [0.62169372, 0.37830628]])"
      ]
     },
     "execution_count": 26,
     "metadata": {},
     "output_type": "execute_result"
    }
   ],
   "source": [
    "gbt_proba_opt = rand_est_gbt.predict_proba(X_test)\n",
    "gbt_proba_opt"
   ]
  },
  {
   "cell_type": "code",
   "execution_count": 33,
   "metadata": {},
   "outputs": [
    {
     "data": {
      "text/plain": [
       "<Figure size 1100x300 with 0 Axes>"
      ]
     },
     "metadata": {},
     "output_type": "display_data"
    },
    {
     "data": {
      "image/png": "[encoded data removed]",
      "text/plain": [
       "<Figure size 640x480 with 2 Axes>"
      ]
     },
     "metadata": {},
     "output_type": "display_data"
    },
    {
     "data": {
      "text/plain": [
       "<Figure size 640x480 with 0 Axes>"
      ]
     },
     "metadata": {},
     "output_type": "display_data"
    }
   ],
   "source": [
    "fig = plt.figure(figsize=(11,3))\n",
    "cm = confusion_matrix(y_test, gbt_preds_opt, labels=rand_est_gbt.classes_)\n",
    "disp = ConfusionMatrixDisplay(confusion_matrix=cm, display_labels=rand_est_gbt.classes_)\n",
    "disp.plot(cmap=\"viridis\")\n",
    "plt.title(\"Matriz De Confusión Gradient Boosting Classifier Opt\")\n",
    "plt.show()\n",
    "module_path = os.path.dirname('__file__')\n",
    "folder_path = os.path.join(module_path, \"../App/static/images/Matriz_confusion.jpg\")\n",
    "plt.savefig(folder_path, format=\"jpg\")\n",
    "\n"
   ]
  },
  {
   "attachments": {},
   "cell_type": "markdown",
   "metadata": {},
   "source": [
    "## Guardando modelo:"
   ]
  },
  {
   "cell_type": "code",
   "execution_count": null,
   "metadata": {},
   "outputs": [
    {
     "data": {
      "text/plain": [
       "['../App/models/gbt_model.pkl']"
      ]
     },
     "execution_count": 23,
     "metadata": {},
     "output_type": "execute_result"
    }
   ],
   "source": [
    "from joblib import dump\n",
    "dump(rand_est_gbt, \"../App/models/gbt_model.pkl\")"
   ]
  }
 ],
 "metadata": {
  "kernelspec": {
   "display_name": "venv",
   "language": "python",
   "name": "python3"
  },
  "language_info": {
   "codemirror_mode": {
    "name": "ipython",
    "version": 3
   },
   "file_extension": ".py",
   "mimetype": "text/x-python",
   "name": "python",
   "nbconvert_exporter": "python",
   "pygments_lexer": "ipython3",
   "version": "3.10.6"
  },
  "orig_nbformat": 4
 },
 "nbformat": 4,
 "nbformat_minor": 2
}
