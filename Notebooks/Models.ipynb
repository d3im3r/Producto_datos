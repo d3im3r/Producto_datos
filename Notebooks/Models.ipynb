{
 "cells": [
  {
   "attachments": {},
   "cell_type": "markdown",
   "metadata": {},
   "source": [
    "<center> <h1> Modelos Predictivos </h1> </center>"
   ]
  },
  {
   "attachments": {},
   "cell_type": "markdown",
   "metadata": {},
   "source": [
    "### Carga de datos preprocesados y partición en entrenamiento y validación"
   ]
  },
  {
   "cell_type": "code",
   "execution_count": null,
   "metadata": {},
   "outputs": [],
   "source": [
    "# Manipulacion de datos...\n",
    "import pandas as pd\n",
    "import numpy as np\n",
    "# Visualizacion de datos...\n",
    "import matplotlib.pyplot as plt\n",
    "import seaborn as sns\n",
    "# Modelo...\n",
    "from sklearn.linear_model import LogisticRegression\n",
    "# Metricas de evaluacion...\n",
    "from sklearn.metrics import confusion_matrix\n",
    "from sklearn.metrics import precision_score\n",
    "from sklearn.metrics import recall_score\n",
    "from sklearn.metrics import accuracy_score\n",
    "from sklearn.metrics import f1_score\n",
    "from sklearn.metrics import roc_auc_score\n",
    "from sklearn.metrics import roc_auc_score\n",
    "from sklearn.metrics import ConfusionMatrixDisplay, classification_report\n",
    "import scikitplot as skplt\n",
    "# No presentar advertencias...\n",
    "import warnings\n",
    "warnings.filterwarnings(\"ignore\")"
   ]
  },
  {
   "cell_type": "code",
   "execution_count": null,
   "metadata": {},
   "outputs": [],
   "source": [
    "df_preprocessing = pd.read_csv(\"../Data/Preprocessing/preprocessing_data.csv\")\n",
    "df_preprocessing.head()"
   ]
  },
  {
   "attachments": {},
   "cell_type": "markdown",
   "metadata": {},
   "source": [
    "* Particionamiento del dataset en entrenamiento y validación\n",
    "\n",
    "Separar variables dependientes e independientes:"
   ]
  },
  {
   "cell_type": "code",
   "execution_count": null,
   "metadata": {},
   "outputs": [],
   "source": [
    "X = df_preprocessing.drop(\"is_canceled\",axis=1)\n",
    "y = df_preprocessing[\"is_canceled\"].values"
   ]
  },
  {
   "cell_type": "code",
   "execution_count": null,
   "metadata": {},
   "outputs": [],
   "source": [
    "from sklearn.model_selection import train_test_split\n",
    "\n",
    "X_train,X_test,y_train,y_test = train_test_split(X,y,test_size=0.3,\n",
    "                                                random_state=42)"
   ]
  },
  {
   "attachments": {},
   "cell_type": "markdown",
   "metadata": {},
   "source": [
    "**Validando Shapes**"
   ]
  },
  {
   "cell_type": "code",
   "execution_count": null,
   "metadata": {},
   "outputs": [],
   "source": [
    "X_train.shape"
   ]
  },
  {
   "cell_type": "code",
   "execution_count": null,
   "metadata": {},
   "outputs": [],
   "source": [
    "X_test.shape"
   ]
  },
  {
   "attachments": {},
   "cell_type": "markdown",
   "metadata": {},
   "source": [
    "## Regresión Logística"
   ]
  },
  {
   "cell_type": "code",
   "execution_count": null,
   "metadata": {},
   "outputs": [],
   "source": [
    "model_lr = LogisticRegression(random_state=42)\n",
    "# Entrenamiento del modelo...\n",
    "model_lr.fit(X_train,y_train)\n",
    "# Predicciones...\n",
    "y_pred_lr = model_lr.predict(X_test)\n",
    "print(accuracy_score(y_test,y_pred_lr))"
   ]
  },
  {
   "attachments": {},
   "cell_type": "markdown",
   "metadata": {},
   "source": [
    "#### Evaluando modelo regresión Logística"
   ]
  },
  {
   "cell_type": "code",
   "execution_count": null,
   "metadata": {},
   "outputs": [],
   "source": [
    "weights = pd.Series(model_lr.coef_[0],\n",
    "                   index=X_train.columns.values)\n",
    "\n",
    "print(weights.sort_values(ascending=False)[:10].plot(kind=\"bar\"))"
   ]
  },
  {
   "attachments": {},
   "cell_type": "markdown",
   "metadata": {},
   "source": [
    "El gráfico de pesos anterior, evidencia que para la predicción positiva (en este caso las variables que conllevan al cancelar la reserva)"
   ]
  },
  {
   "cell_type": "code",
   "execution_count": null,
   "metadata": {},
   "outputs": [],
   "source": [
    "print(weights.sort_values(ascending=False)[-10:].plot(kind=\"bar\"))"
   ]
  },
  {
   "attachments": {},
   "cell_type": "markdown",
   "metadata": {},
   "source": [
    "De forma similar, aqui observamos de forma descendiente los valores negativos que son las variables que ayudan a predecir cuando el estado es cero, osea, cuando **no hay cancelación**."
   ]
  },
  {
   "cell_type": "code",
   "execution_count": null,
   "metadata": {},
   "outputs": [],
   "source": [
    "fig = plt.figure(figsize=(11,11))\n",
    "cm = confusion_matrix(y_test, y_pred_lr, labels=model_lr.classes_)\n",
    "disp = ConfusionMatrixDisplay(confusion_matrix=cm, display_labels=model_lr.classes_)\n",
    "disp.plot(cmap=\"viridis\")\n",
    "plt.title(\"Matriz de confusión Regresión Logística\", fontsize=16)\n",
    "plt.show()"
   ]
  },
  {
   "cell_type": "code",
   "execution_count": null,
   "metadata": {},
   "outputs": [],
   "source": [
    "1731+683"
   ]
  },
  {
   "cell_type": "code",
   "execution_count": null,
   "metadata": {},
   "outputs": [],
   "source": [
    "# Metricas de evaluacion...\n",
    "print(classification_report(y_test,y_pred_lr))"
   ]
  },
  {
   "attachments": {},
   "cell_type": "markdown",
   "metadata": {},
   "source": [
    "**Curva ROC**"
   ]
  },
  {
   "cell_type": "code",
   "execution_count": null,
   "metadata": {},
   "outputs": [],
   "source": [
    "y_prob_lr = model_lr.predict_proba(X_test)"
   ]
  },
  {
   "cell_type": "code",
   "execution_count": null,
   "metadata": {},
   "outputs": [],
   "source": [
    "skplt.metrics.plot_roc_curve(y_test,y_prob_lr)\n",
    "plt.show()"
   ]
  },
  {
   "attachments": {},
   "cell_type": "markdown",
   "metadata": {},
   "source": [
    "### Redes Neuronales"
   ]
  },
  {
   "cell_type": "code",
   "execution_count": null,
   "metadata": {},
   "outputs": [],
   "source": [
    "from keras import models, layers, optimizers, regularizers\n",
    "from keras.callbacks import Callback\n",
    "\n",
    "class TrainingCallback(Callback):\n",
    "  def on_epoch_end(self, epoch, logs = {}):\n",
    "    if logs.get(\"accuracy\") > 0.85:\n",
    "      print(\"Lo logramos, nuestro modelo llego a 85%, detenemos el entrenamiento\")\n",
    "      self.model.stop_training = True"
   ]
  },
  {
   "cell_type": "code",
   "execution_count": null,
   "metadata": {},
   "outputs": [],
   "source": [
    "# Modelo Redes neuronales con regulizers...\n",
    "NN = models.Sequential()\n",
    "# Capa de entrada...\n",
    "NN.add(layers.Dense(64, activation = \"relu\", input_dim = X_train.shape[1],kernel_initializer=\"he_uniform\"))\n",
    "\n",
    "# DropOut... inactivando el 50% de las neuronas\n",
    "NN.add(layers.Dropout(0.5))\n",
    "\n",
    "# Anadiendo 2 capas mas (ocultas)...\n",
    "NN.add(layers.Dense(32, activation = \"relu\",kernel_initializer=\"he_uniform\")) # input ya se sabe q entra\n",
    "NN.add(layers.Dense(16, activation = \"relu\",kernel_initializer=\"he_uniform\")) # input ya se sabe q entra\n",
    "NN.add(layers.Dense(8, activation = \"relu\",kernel_initializer=\"he_uniform\")) # input ya se sabe q entra\n",
    "# DropOut... inactivando el 40% de las neuronas\n",
    "NN.add(layers.Dropout(0.4))\n",
    "# Capa de salida con func activacion sigmoid por clasificacion binaria...\n",
    "NN.add(layers.Dense(1, activation = \"sigmoid\"))\n",
    "\n",
    "# optimizers...\n",
    "opt = optimizers.SGD(lr=0.01, momentum=0.9)\n",
    "# Compilar modelo...\n",
    "# rmsprop version mejorada descenso gradiente:\n",
    "NN.compile(optimizer=\"rmsprop\", loss=\"binary_crossentropy\",\n",
    "             metrics=\"accuracy\")\n",
    "\n",
    "# Callback:\n",
    "callback = TrainingCallback()\n",
    "# Entrenando...\n",
    "history = NN.fit(X_train,y_train, epochs=250, callbacks= [callback],\n",
    "                   batch_size = 20, validation_data=(X_test,y_test))"
   ]
  },
  {
   "cell_type": "code",
   "execution_count": null,
   "metadata": {},
   "outputs": [],
   "source": [
    "NN.summary()"
   ]
  },
  {
   "cell_type": "code",
   "execution_count": null,
   "metadata": {},
   "outputs": [],
   "source": [
    "history_dict = history.history\n",
    "loss_values = history_dict[\"loss\"]\n",
    "val_loss_values = history_dict[\"val_loss\"]\n",
    "\n",
    "# epocas igual a rango entre 1 y longitud loss values + 1 para rango en eje x\n",
    "epochs = range(1,len(loss_values)+1)\n",
    "\n",
    "# Grafica...\n",
    "plt.plot(epochs,loss_values,\"o\",label=\"training\")\n",
    "plt.plot(epochs,val_loss_values,\"--\",label=\"validation\")\n",
    "plt.legend()\n",
    "plt.show()"
   ]
  },
  {
   "cell_type": "code",
   "execution_count": null,
   "metadata": {},
   "outputs": [],
   "source": [
    "history_dict = history.history\n",
    "accuracy_values = history_dict[\"accuracy\"]\n",
    "val_accuracy_values = history_dict[\"val_accuracy\"]\n",
    "\n",
    "# epocas igual a rango entre 1 y longitud loss values + 1 para rango en eje x\n",
    "epochs = range(1,len(accuracy_values)+1)\n",
    "\n",
    "# Grafica...\n",
    "plt.plot(epochs,accuracy_values,\"o\",label=\"training\")\n",
    "plt.plot(epochs,val_accuracy_values,\"--\",label=\"validation\")\n",
    "plt.legend()\n",
    "plt.show()"
   ]
  },
  {
   "cell_type": "code",
   "execution_count": null,
   "metadata": {},
   "outputs": [],
   "source": [
    "#PREDICCIONES\n",
    "Y_ann = NN.predict(X_test)\n",
    "Y_ann = Y_ann > 0.5\n",
    "Y_ann.shape"
   ]
  },
  {
   "cell_type": "code",
   "execution_count": null,
   "metadata": {},
   "outputs": [],
   "source": [
    "plt.figure(figsize=(5,2))\n",
    "plt.title(\"Matriz de confusión Redes Neuronales\", fontsize=16)\n",
    "sns.heatmap(confusion_matrix(y_test,Y_ann),annot=True,\n",
    "           cmap=\"cividis\",fmt=\".0f\")\n",
    "plt.show();"
   ]
  },
  {
   "cell_type": "code",
   "execution_count": null,
   "metadata": {},
   "outputs": [],
   "source": [
    "precision_ann = accuracy_score(y_test,Y_ann)\n",
    "print(\"Accuracy del modelo Redes Neuronales:\")\n",
    "print(precision_ann)"
   ]
  },
  {
   "cell_type": "code",
   "execution_count": null,
   "metadata": {},
   "outputs": [],
   "source": [
    "# Reporte de clasificación del modelo...\n",
    "target_names = ['Non-Canceled', 'Canceled']\n",
    "print(classification_report(y_test, Y_ann, target_names=target_names))"
   ]
  },
  {
   "cell_type": "code",
   "execution_count": null,
   "metadata": {},
   "outputs": [],
   "source": [
    "# Probabilidades de cancelacion predichas Redes Neuronales...\n",
    "Y_ann_prob = NN.predict(X_test, verbose=1)\n",
    "Y_ann_prob"
   ]
  },
  {
   "attachments": {},
   "cell_type": "markdown",
   "metadata": {},
   "source": [
    "### Gradient Boosting Trees"
   ]
  },
  {
   "cell_type": "code",
   "execution_count": null,
   "metadata": {},
   "outputs": [],
   "source": [
    "from sklearn.ensemble import GradientBoostingClassifier\n",
    "# Optimizacion parametrica...\n",
    "from sklearn.model_selection import RandomizedSearchCV"
   ]
  },
  {
   "cell_type": "code",
   "execution_count": null,
   "metadata": {},
   "outputs": [],
   "source": [
    "# Definir regressor...\n",
    "# Se define sin ningun parametro para configurarlos\n",
    "\n",
    "clf_gbt_opt = GradientBoostingClassifier(random_state=42)\n",
    "\n",
    "# Definicon de grilla de parametros...\n",
    "parametros = {\n",
    "    \"loss\": [\"los_loss\",\"exponential\"],\n",
    "    \"learning_rate\": [0.001, 0.01, 0.1, 0.2],\n",
    "    \"n_estimators\": [100, 200, 300, 400],\n",
    "    \"subsample\": [0.0,0.5,1.0],\n",
    "    \"criterion\": [\"friedman_mse\"],\n",
    "    \"max_depth\": [3, 5, 8, 10]\n",
    "}\n",
    "\n",
    "rand_est_gbt = RandomizedSearchCV(clf_gbt_opt, parametros, n_iter=100,\n",
    "    cv=6, scoring=\"accuracy\").fit(X_train,y_train)\n",
    "\n",
    "print(rand_est_gbt.best_estimator_)\n",
    "\n",
    "print(\"=\"*40)\n",
    "print(rand_est_gbt.best_params_)"
   ]
  },
  {
   "cell_type": "code",
   "execution_count": null,
   "metadata": {},
   "outputs": [],
   "source": [
    "clf_gbt_opt = GradientBoostingClassifier(loss='exponential', max_depth=5, n_estimators=400,\n",
    "                           random_state=42,subsample=1.0,learning_rate=0.2).fit(X_train, np.ravel(y_train))\n",
    "\n",
    "# Predicciones de la probabilidad de default con el modelo\n",
    "gbt_preds_opt = clf_gbt_opt.predict_proba(X_test)\n",
    "\n",
    "# Dataframes con probabilidades de dafault predicha y datos reales\n",
    "preds_df_opt = pd.DataFrame(gbt_preds_opt[:,1], columns = ['prob_canceled'])\n",
    "true_df = pd.DataFrame(y_test, columns=[\"real_date_canceled\"])\n",
    "\n",
    "# Comparación de los dos marcos de datos\n",
    "print(pd.concat([true_df.reset_index(drop = True), preds_df_opt], axis = 1))"
   ]
  },
  {
   "cell_type": "code",
   "execution_count": null,
   "metadata": {},
   "outputs": [],
   "source": [
    "# Predicciones...\n",
    "gbt_preds_opt = clf_gbt_opt.predict(X_test)\n",
    "\n",
    "# Cadena de valores de los resulta\n",
    "print(gbt_preds_opt)\n",
    "\n",
    "# Reporte de clasificación del modelo\n",
    "target_names = ['Non-Canceled', 'Canceled']\n",
    "print(classification_report(y_test, gbt_preds_opt, target_names=target_names))"
   ]
  },
  {
   "cell_type": "code",
   "execution_count": null,
   "metadata": {},
   "outputs": [],
   "source": [
    "gbt_proba_opt = clf_gbt_opt.predict_proba(X_test)\n",
    "gbt_proba_opt"
   ]
  },
  {
   "cell_type": "code",
   "execution_count": null,
   "metadata": {},
   "outputs": [],
   "source": [
    "skplt.metrics.plot_roc_curve(y_test,gbt_proba_opt)\n",
    "plt.title(\"Curva ROC Gradient Booosting Classifier Opt\")\n",
    "plt.show()"
   ]
  },
  {
   "cell_type": "code",
   "execution_count": null,
   "metadata": {},
   "outputs": [],
   "source": [
    "# Accuracy del modelo...\n",
    "print(accuracy_score(y_test,gbt_preds_opt))"
   ]
  },
  {
   "cell_type": "code",
   "execution_count": null,
   "metadata": {},
   "outputs": [],
   "source": [
    "fig = plt.figure(figsize=(11,3))\n",
    "cm = confusion_matrix(y_test, gbt_preds_opt, labels=clf_gbt_opt.classes_)\n",
    "disp = ConfusionMatrixDisplay(confusion_matrix=cm, display_labels=clf_gbt_opt.classes_)\n",
    "disp.plot(cmap=\"viridis\")\n",
    "plt.title(\"Matriz De Confusión Gradient Boosting Classifier Opt\")\n",
    "plt.show()"
   ]
  }
 ],
 "metadata": {
  "kernelspec": {
   "display_name": "prod_data",
   "language": "python",
   "name": "python3"
  },
  "language_info": {
   "codemirror_mode": {
    "name": "ipython",
    "version": 3
   },
   "file_extension": ".py",
   "mimetype": "text/x-python",
   "name": "python",
   "nbconvert_exporter": "python",
   "pygments_lexer": "ipython3",
   "version": "3.10.6"
  },
  "orig_nbformat": 4,
  "vscode": {
   "interpreter": {
    "hash": "8653751f99261cf68808492ad78c4e057e312082115f66d90d6fa152c7bde187"
   }
  }
 },
 "nbformat": 4,
 "nbformat_minor": 2
}
